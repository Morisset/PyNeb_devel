{
 "cells": [
  {
   "cell_type": "code",
   "execution_count": 1,
   "metadata": {},
   "outputs": [],
   "source": [
    "import pyneb as pn\n",
    "import numpy as np"
   ]
  },
  {
   "cell_type": "markdown",
   "metadata": {},
   "source": [
    "To determine the ionic abundance, one can use the Atom object:"
   ]
  },
  {
   "cell_type": "code",
   "execution_count": 2,
   "metadata": {},
   "outputs": [
    {
     "name": "stdout",
     "output_type": "stream",
     "text": [
      "O++/O = 2.59e-04\n"
     ]
    }
   ],
   "source": [
    "O3 = pn.Atom('O',3)\n",
    "Opp_abund = O3.getIonAbundance(int_ratio=3239.4, tem=1.5e4, den=110., to_eval='L(5007)+L(4959)', Hbeta=100.0)\n",
    "print('O++/O = {:5.2e}'.format(Opp_abund))"
   ]
  },
  {
   "cell_type": "markdown",
   "metadata": {},
   "source": [
    "One can also use the observations from the Observation object:"
   ]
  },
  {
   "cell_type": "code",
   "execution_count": 3,
   "metadata": {
    "collapsed": false,
    "jupyter": {
     "outputs_hidden": false
    }
   },
   "outputs": [],
   "source": [
    "obs = pn.Observation()\n",
    "obs.readData('observations1.dat', fileFormat='lines_in_rows', err_default=0.05) # fill obs with data read from observations1.dat\n",
    "obs.def_EBV(label1=\"H1r_6563A\", label2=\"H1r_4861A\", r_theo=2.85)\n",
    "obs.correctData(normWave=4861.)"
   ]
  },
  {
   "cell_type": "code",
   "execution_count": 4,
   "metadata": {
    "collapsed": false,
    "jupyter": {
     "outputs_hidden": false
    }
   },
   "outputs": [
    {
     "name": "stdout",
     "output_type": "stream",
     "text": [
      "S4_10.5m      4.076\n",
      "Ne2_12.8m     4.826\n",
      "Ne3_15.6m    19.803\n",
      "S3_18.7m      5.802\n",
      "O2_3726A     46.576\n",
      "O2_3729A     21.812\n",
      "Ne3_3869A    21.722\n",
      "Ne3_3968A     7.255\n",
      "S2_4069A      0.950\n",
      "S2_4076A      0.503\n",
      "O3_4363A      4.687\n",
      "H1r_4861A   100.000\n",
      "O3_5007A    425.599\n",
      "N2_5755A      0.454\n",
      "S3_6312A      0.641\n",
      "O1_6300A      1.428\n",
      "O1_6364A      0.454\n",
      "N2_6548A      5.657\n",
      "H1r_6563A   285.000\n",
      "N2_6584A     15.668\n",
      "S2_6716A      0.995\n",
      "S2_6731A      1.777\n",
      "Ar3_7136A     3.882\n",
      "O2_7319A+     5.106\n",
      "O2_7330A+     4.034\n"
     ]
    }
   ],
   "source": [
    "obs.printIntens()"
   ]
  },
  {
   "cell_type": "code",
   "execution_count": 5,
   "metadata": {
    "collapsed": false,
    "jupyter": {
     "outputs_hidden": false
    }
   },
   "outputs": [
    {
     "name": "stdout",
     "output_type": "stream",
     "text": [
      "warng _ManageAtomicData: rec data not available for Ar3\n",
      "warng _ManageAtomicData: atom data not available for H1\n",
      "warng _ManageAtomicData: coll data not available for H1\n",
      "warng _ManageAtomicData: rec data not available for Ne3\n",
      "warng _ManageAtomicData: rec data not available for S2\n",
      "warng _ManageAtomicData: rec data not available for S3\n",
      "warng _ManageAtomicData: rec data not available for S4\n",
      "Ar3_7136A  5.33\n",
      "H1r_4861A  12.00\n",
      "H1r_6563A  12.01\n",
      "N2_5755A   6.36\n",
      "N2_6548A   6.38\n",
      "N2_6584A   6.35\n",
      "Ne2_12.8m  6.77\n",
      "Ne3_15.6m  7.11\n",
      "Ne3_3869A  7.07\n",
      "Ne3_3968A  7.12\n",
      "O1_6300A   6.16\n",
      "O1_6364A   6.16\n",
      "O2_3726A   7.47\n",
      "O2_3729A   7.48\n",
      "O2_7319A+  7.32\n",
      "O2_7330A+  7.29\n",
      "O3_4363A   7.89\n",
      "O3_5007A   7.92\n",
      "S2_4069A   5.07\n",
      "S2_4076A   5.29\n",
      "S2_6716A   5.18\n",
      "S2_6731A   5.12\n",
      "S3_18.7m   5.93\n",
      "S3_6312A   5.82\n",
      "S4_10.5m   5.17\n"
     ]
    }
   ],
   "source": [
    "all_atoms = pn.getAtomDict(atom_list=obs.getUniqueAtoms())\n",
    "line_ab = {}\n",
    "ion_ab = {}\n",
    "temp = 12000.\n",
    "dens = 1e4\n",
    "for line in obs.getSortedLines():\n",
    "    if line.atom != 'H1' and line.atom != 'He1' and line.atom != 'He2':\n",
    "        line_ab[line.label] = all_atoms[line.atom].getIonAbundance(line.corrIntens, temp, dens, \n",
    "                                                          to_eval=line.to_eval)\n",
    "        if line.atom not in ion_ab:\n",
    "            ion_ab[line.atom] = []\n",
    "        ion_ab[line.atom].append(line_ab[line.label][0])\n",
    "for line in sorted(line_ab):\n",
    "    print('{:10} {:.2f}'.format(line, 12+np.log10(line_ab[line][0])))"
   ]
  },
  {
   "cell_type": "code",
   "execution_count": 6,
   "metadata": {
    "collapsed": false,
    "jupyter": {
     "outputs_hidden": false
    }
   },
   "outputs": [
    {
     "name": "stdout",
     "output_type": "stream",
     "text": [
      "Ar3 [2.1378200554048055e-07]\n",
      "H1r [1.0, 1.012426284751474]\n",
      "N2 [2.2736199273983762e-06, 2.3964003294880454e-06, 2.2557784739201715e-06]\n",
      "Ne2 [5.863763803374603e-06]\n",
      "Ne3 [1.2834108902936717e-05, 1.1789947985274417e-05, 1.3072908397247668e-05]\n",
      "O1 [1.448564230567394e-06, 1.4410898953658049e-06]\n",
      "O2 [2.927851246950385e-05, 3.0189123334478235e-05, 2.0928629352567606e-05, 1.9320429182543967e-05]\n",
      "O3 [7.76936539188984e-05, 8.284772814263309e-05]\n",
      "S2 [1.1875081985725224e-07, 1.944136081004211e-07, 1.5018322372094437e-07, 1.3220539652396933e-07]\n",
      "S3 [8.538520510209691e-07, 6.608571320910761e-07]\n",
      "S4 [1.4662176292645887e-07]\n"
     ]
    }
   ],
   "source": [
    "for ion in sorted(ion_ab):\n",
    "    print(ion, ion_ab[ion])"
   ]
  },
  {
   "cell_type": "code",
   "execution_count": 7,
   "metadata": {
    "collapsed": false,
    "jupyter": {
     "outputs_hidden": false
    }
   },
   "outputs": [
    {
     "name": "stdout",
     "output_type": "stream",
     "text": [
      "Ar3 : 5.33\n",
      "H1r : 12.00\n",
      "N2  : 6.36\n",
      "Ne2 : 6.77\n",
      "Ne3 : 7.10\n",
      "O1  : 6.16\n",
      "O2  : 7.40\n",
      "O3  : 7.90\n",
      "S2  : 5.17\n",
      "S3  : 5.88\n",
      "S4  : 5.17\n"
     ]
    }
   ],
   "source": [
    "for atom in ion_ab:\n",
    "    mean = np.mean(np.asarray(ion_ab[atom]))\n",
    "    ion_ab[atom] = mean\n",
    "    print('{:4s}: {:4.2f}'.format(atom, 12+np.log10(mean)))"
   ]
  }
 ],
 "metadata": {
  "kernelspec": {
   "display_name": "Python 3",
   "language": "python",
   "name": "python3"
  },
  "language_info": {
   "codemirror_mode": {
    "name": "ipython",
    "version": 3
   },
   "file_extension": ".py",
   "mimetype": "text/x-python",
   "name": "python",
   "nbconvert_exporter": "python",
   "pygments_lexer": "ipython3",
   "version": "3.7.9"
  }
 },
 "nbformat": 4,
 "nbformat_minor": 4
}
