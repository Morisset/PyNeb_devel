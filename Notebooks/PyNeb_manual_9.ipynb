{
 "cells": [
  {
   "cell_type": "code",
   "execution_count": 1,
   "metadata": {},
   "outputs": [],
   "source": [
    "import pyneb as pn\n",
    "import numpy as np\n",
    "import matplotlib.pyplot as plt\n",
    "import time"
   ]
  },
  {
   "cell_type": "code",
   "execution_count": 2,
   "metadata": {},
   "outputs": [],
   "source": [
    "# This is the AAN interface. \n",
    "try:\n",
    "    import ai4neb\n",
    "except:\n",
    "    !pip install -U git+https://github.com/morisset/AI4neb.git\n",
    "    import ai4neb"
   ]
  },
  {
   "cell_type": "markdown",
   "metadata": {},
   "source": [
    "# Test Atom.getTemDen"
   ]
  },
  {
   "cell_type": "code",
   "execution_count": 3,
   "metadata": {},
   "outputs": [],
   "source": [
    "O3 = pn.Atom('O',3)\n",
    "N2 = pn.Atom('N',2)\n",
    "S2 = pn.Atom('S',2)"
   ]
  },
  {
   "cell_type": "code",
   "execution_count": 4,
   "metadata": {},
   "outputs": [],
   "source": [
    "# Number of data points to test the ANN option speedup. 1,000 is good to see what's happening. 10,000 starts to really rock.\n",
    "N_rand = 1000\n",
    "# Define some ramdom values to test the \n",
    "ratio = 150.+ 10*np.random.randn(N_rand)\n",
    "den =  150.+ 10*np.random.randn(N_rand)\n",
    "ratio_S2 = 1 + 0.1*np.random.randn(N_rand)\n",
    "tem_S2 = 11000 + 2000 * np.random.randn(N_rand)"
   ]
  },
  {
   "cell_type": "code",
   "execution_count": 5,
   "metadata": {},
   "outputs": [
    {
     "ename": "KeyboardInterrupt",
     "evalue": "",
     "output_type": "error",
     "traceback": [
      "\u001b[0;31m---------------------------------------------------------------------------\u001b[0m",
      "\u001b[0;31mKeyboardInterrupt\u001b[0m                         Traceback (most recent call last)",
      "\u001b[0;32m<ipython-input-5-d81713c2abd0>\u001b[0m in \u001b[0;36m<module>\u001b[0;34m\u001b[0m\n\u001b[1;32m      4\u001b[0m \u001b[0mresb\u001b[0m \u001b[0;34m=\u001b[0m \u001b[0mO3\u001b[0m\u001b[0;34m.\u001b[0m\u001b[0mgetTemDen\u001b[0m\u001b[0;34m(\u001b[0m\u001b[0mratio\u001b[0m\u001b[0;34m,\u001b[0m \u001b[0mden\u001b[0m\u001b[0;34m=\u001b[0m\u001b[0mden\u001b[0m\u001b[0;34m,\u001b[0m \u001b[0mwave1\u001b[0m\u001b[0;34m=\u001b[0m\u001b[0;36m5007\u001b[0m\u001b[0;34m,\u001b[0m \u001b[0mwave2\u001b[0m\u001b[0;34m=\u001b[0m\u001b[0;36m4363\u001b[0m\u001b[0;34m)\u001b[0m\u001b[0;34m\u001b[0m\u001b[0;34m\u001b[0m\u001b[0m\n\u001b[1;32m      5\u001b[0m resc = N2.getTemDen(ratio, den=den,\n\u001b[0;32m----> 6\u001b[0;31m                        to_eval = '(L(6584) + L(6548)) / L(5755)')\n\u001b[0m\u001b[1;32m      7\u001b[0m \u001b[0mresd\u001b[0m \u001b[0;34m=\u001b[0m \u001b[0mS2\u001b[0m\u001b[0;34m.\u001b[0m\u001b[0mgetTemDen\u001b[0m\u001b[0;34m(\u001b[0m\u001b[0mratio_S2\u001b[0m\u001b[0;34m,\u001b[0m \u001b[0mtem\u001b[0m\u001b[0;34m=\u001b[0m\u001b[0;36m11000\u001b[0m\u001b[0;34m,\u001b[0m \u001b[0mwave1\u001b[0m\u001b[0;34m=\u001b[0m\u001b[0;36m6716\u001b[0m\u001b[0;34m,\u001b[0m \u001b[0mwave2\u001b[0m\u001b[0;34m=\u001b[0m\u001b[0;36m6731\u001b[0m\u001b[0;34m)\u001b[0m\u001b[0;34m\u001b[0m\u001b[0;34m\u001b[0m\u001b[0m\n\u001b[1;32m      8\u001b[0m \u001b[0;34m\u001b[0m\u001b[0m\n",
      "\u001b[0;32m~/Google Drive/Pro/PyNeb_devel/pyneb/core/pynebcore.py\u001b[0m in \u001b[0;36mgetTemDen\u001b[0;34m(self, int_ratio, tem, den, lev_i1, lev_j1, lev_i2, lev_j2, wave1, wave2, maxError, method, log, start_x, end_x, to_eval, nCut, maxIter)\u001b[0m\n\u001b[1;32m   2338\u001b[0m             return self._getTemDen_1(int_ratio=int_ratio, tem=tem, den=den, lev_i1=lev_i1, lev_j1=lev_j1, lev_i2=lev_i2, lev_j2=lev_j2,\n\u001b[1;32m   2339\u001b[0m                   \u001b[0mwave1\u001b[0m\u001b[0;34m=\u001b[0m\u001b[0mwave1\u001b[0m\u001b[0;34m,\u001b[0m \u001b[0mwave2\u001b[0m\u001b[0;34m=\u001b[0m\u001b[0mwave2\u001b[0m\u001b[0;34m,\u001b[0m \u001b[0mmaxError\u001b[0m\u001b[0;34m=\u001b[0m\u001b[0mmaxError\u001b[0m\u001b[0;34m,\u001b[0m \u001b[0mmethod\u001b[0m\u001b[0;34m=\u001b[0m\u001b[0mmethod\u001b[0m\u001b[0;34m,\u001b[0m \u001b[0mlog\u001b[0m\u001b[0;34m=\u001b[0m\u001b[0mlog\u001b[0m\u001b[0;34m,\u001b[0m \u001b[0mstart_x\u001b[0m\u001b[0;34m=\u001b[0m\u001b[0mstart_x\u001b[0m\u001b[0;34m,\u001b[0m\u001b[0;34m\u001b[0m\u001b[0;34m\u001b[0m\u001b[0m\n\u001b[0;32m-> 2340\u001b[0;31m                   end_x=end_x, to_eval=to_eval, nCut=nCut, maxIter=maxIter)\n\u001b[0m\u001b[1;32m   2341\u001b[0m \u001b[0;34m\u001b[0m\u001b[0m\n\u001b[1;32m   2342\u001b[0m     def getIonAbundance(self, int_ratio, tem, den, lev_i= -1, lev_j= -1, wave= -1, to_eval=None, \n",
      "\u001b[0;32m~/Google Drive/Pro/PyNeb_devel/pyneb/core/pynebcore.py\u001b[0m in \u001b[0;36m_getTemDen_1\u001b[0;34m(self, int_ratio, tem, den, lev_i1, lev_j1, lev_i2, lev_j2, wave1, wave2, maxError, method, log, start_x, end_x, to_eval, nCut, maxIter)\u001b[0m\n\u001b[1;32m   1969\u001b[0m                                            \u001b[0mwave1\u001b[0m\u001b[0;34m=\u001b[0m\u001b[0mwave1\u001b[0m\u001b[0;34m,\u001b[0m \u001b[0mwave2\u001b[0m\u001b[0;34m=\u001b[0m\u001b[0mwave2\u001b[0m\u001b[0;34m,\u001b[0m \u001b[0mmaxError\u001b[0m\u001b[0;34m=\u001b[0m\u001b[0mmaxError\u001b[0m\u001b[0;34m,\u001b[0m \u001b[0mmethod\u001b[0m\u001b[0;34m=\u001b[0m\u001b[0mmethod\u001b[0m\u001b[0;34m,\u001b[0m\u001b[0;34m\u001b[0m\u001b[0;34m\u001b[0m\u001b[0m\n\u001b[1;32m   1970\u001b[0m                                            \u001b[0mlog\u001b[0m\u001b[0;34m=\u001b[0m\u001b[0mlog\u001b[0m\u001b[0;34m,\u001b[0m \u001b[0mstart_x\u001b[0m\u001b[0;34m=\u001b[0m\u001b[0mstart_x\u001b[0m\u001b[0;34m,\u001b[0m \u001b[0mend_x\u001b[0m\u001b[0;34m=\u001b[0m\u001b[0mend_x\u001b[0m\u001b[0;34m,\u001b[0m\u001b[0;34m\u001b[0m\u001b[0;34m\u001b[0m\u001b[0m\n\u001b[0;32m-> 1971\u001b[0;31m                                            to_eval=to_eval)\n\u001b[0m\u001b[1;32m   1972\u001b[0m             \u001b[0;32mreturn\u001b[0m \u001b[0mresult\u001b[0m\u001b[0;34m.\u001b[0m\u001b[0mreshape\u001b[0m\u001b[0;34m(\u001b[0m\u001b[0mshape\u001b[0m\u001b[0;34m)\u001b[0m\u001b[0;34m\u001b[0m\u001b[0;34m\u001b[0m\u001b[0m\n\u001b[1;32m   1973\u001b[0m \u001b[0;34m\u001b[0m\u001b[0m\n",
      "\u001b[0;32m~/Google Drive/Pro/PyNeb_devel/pyneb/core/pynebcore.py\u001b[0m in \u001b[0;36m_getTemDen_1\u001b[0;34m(self, int_ratio, tem, den, lev_i1, lev_j1, lev_i2, lev_j2, wave1, wave2, maxError, method, log, start_x, end_x, to_eval, nCut, maxIter)\u001b[0m\n\u001b[1;32m   2074\u001b[0m                     \u001b[0;32mreturn\u001b[0m \u001b[0mnsect_recur\u001b[0m\u001b[0;34m(\u001b[0m\u001b[0mf\u001b[0m\u001b[0;34m,\u001b[0m \u001b[0mx1\u001b[0m\u001b[0;34m,\u001b[0m \u001b[0mx2\u001b[0m\u001b[0;34m,\u001b[0m \u001b[0mnCut\u001b[0m\u001b[0;34m=\u001b[0m\u001b[0mnCut\u001b[0m\u001b[0;34m,\u001b[0m \u001b[0mmaxIter\u001b[0m\u001b[0;34m=\u001b[0m\u001b[0mmaxIter\u001b[0m\u001b[0;34m,\u001b[0m \u001b[0m_iter\u001b[0m\u001b[0;34m=\u001b[0m\u001b[0m_iter\u001b[0m\u001b[0;34m)\u001b[0m\u001b[0;34m\u001b[0m\u001b[0;34m\u001b[0m\u001b[0m\n\u001b[1;32m   2075\u001b[0m \u001b[0;34m\u001b[0m\u001b[0m\n\u001b[0;32m-> 2076\u001b[0;31m             \u001b[0mresult\u001b[0m \u001b[0;34m=\u001b[0m \u001b[0mnsect_recur\u001b[0m\u001b[0;34m(\u001b[0m\u001b[0m_func\u001b[0m\u001b[0;34m,\u001b[0m \u001b[0mstart_x\u001b[0m\u001b[0;34m,\u001b[0m \u001b[0mend_x\u001b[0m\u001b[0;34m,\u001b[0m \u001b[0mnCut\u001b[0m\u001b[0;34m,\u001b[0m \u001b[0mmaxIter\u001b[0m\u001b[0;34m)\u001b[0m\u001b[0;34m\u001b[0m\u001b[0;34m\u001b[0m\u001b[0m\n\u001b[0m\u001b[1;32m   2077\u001b[0m \u001b[0;34m\u001b[0m\u001b[0m\n\u001b[1;32m   2078\u001b[0m         \u001b[0;32melif\u001b[0m \u001b[0mmethod\u001b[0m \u001b[0;34m==\u001b[0m \u001b[0;34m'nsect_iter'\u001b[0m\u001b[0;34m:\u001b[0m\u001b[0;34m\u001b[0m\u001b[0;34m\u001b[0m\u001b[0m\n",
      "\u001b[0;32m~/Google Drive/Pro/PyNeb_devel/pyneb/core/pynebcore.py\u001b[0m in \u001b[0;36mnsect_recur\u001b[0;34m(f, x1, x2, nCut, maxIter, _iter)\u001b[0m\n\u001b[1;32m   2059\u001b[0m                     \u001b[0;32mreturn\u001b[0m \u001b[0mnp\u001b[0m\u001b[0;34m.\u001b[0m\u001b[0mnan\u001b[0m\u001b[0;34m\u001b[0m\u001b[0;34m\u001b[0m\u001b[0m\n\u001b[1;32m   2060\u001b[0m                 \u001b[0mx\u001b[0m \u001b[0;34m=\u001b[0m \u001b[0mnp\u001b[0m\u001b[0;34m.\u001b[0m\u001b[0mlinspace\u001b[0m\u001b[0;34m(\u001b[0m\u001b[0mx1\u001b[0m\u001b[0;34m,\u001b[0m \u001b[0mx2\u001b[0m\u001b[0;34m,\u001b[0m \u001b[0mnCut\u001b[0m\u001b[0;34m)\u001b[0m\u001b[0;34m\u001b[0m\u001b[0;34m\u001b[0m\u001b[0m\n\u001b[0;32m-> 2061\u001b[0;31m                 \u001b[0my\u001b[0m \u001b[0;34m=\u001b[0m \u001b[0mabs\u001b[0m\u001b[0;34m(\u001b[0m\u001b[0mf\u001b[0m\u001b[0;34m(\u001b[0m\u001b[0mx\u001b[0m\u001b[0;34m)\u001b[0m\u001b[0;34m)\u001b[0m\u001b[0;34m\u001b[0m\u001b[0;34m\u001b[0m\u001b[0m\n\u001b[0m\u001b[1;32m   2062\u001b[0m                 \u001b[0mx_min\u001b[0m \u001b[0;34m=\u001b[0m \u001b[0mnp\u001b[0m\u001b[0;34m.\u001b[0m\u001b[0margmin\u001b[0m\u001b[0;34m(\u001b[0m\u001b[0my\u001b[0m\u001b[0;34m)\u001b[0m\u001b[0;34m\u001b[0m\u001b[0;34m\u001b[0m\u001b[0m\n\u001b[1;32m   2063\u001b[0m                 \u001b[0;32mif\u001b[0m \u001b[0my\u001b[0m\u001b[0;34m[\u001b[0m\u001b[0mx_min\u001b[0m\u001b[0;34m]\u001b[0m \u001b[0;34m<\u001b[0m \u001b[0mmaxError\u001b[0m\u001b[0;34m:\u001b[0m\u001b[0;34m\u001b[0m\u001b[0;34m\u001b[0m\u001b[0m\n",
      "\u001b[0;32m~/Google Drive/Pro/PyNeb_devel/pyneb/core/pynebcore.py\u001b[0m in \u001b[0;36m_func\u001b[0;34m(x)\u001b[0m\n\u001b[1;32m   2000\u001b[0m                 \"\"\"\n\u001b[1;32m   2001\u001b[0m                 \u001b[0;32mif\u001b[0m \u001b[0mlog\u001b[0m\u001b[0;34m:\u001b[0m\u001b[0;34m\u001b[0m\u001b[0;34m\u001b[0m\u001b[0m\n\u001b[0;32m-> 2002\u001b[0;31m                     \u001b[0mpopulations\u001b[0m \u001b[0;34m=\u001b[0m \u001b[0mself\u001b[0m\u001b[0;34m.\u001b[0m\u001b[0mgetPopulations\u001b[0m\u001b[0;34m(\u001b[0m\u001b[0;36m10.\u001b[0m\u001b[0;34m**\u001b[0m\u001b[0mx\u001b[0m\u001b[0;34m,\u001b[0m \u001b[0mden\u001b[0m\u001b[0;34m)\u001b[0m\u001b[0;34m\u001b[0m\u001b[0;34m\u001b[0m\u001b[0m\n\u001b[0m\u001b[1;32m   2003\u001b[0m                 \u001b[0;32melse\u001b[0m\u001b[0;34m:\u001b[0m\u001b[0;34m\u001b[0m\u001b[0;34m\u001b[0m\u001b[0m\n\u001b[1;32m   2004\u001b[0m                     \u001b[0mpopulations\u001b[0m \u001b[0;34m=\u001b[0m \u001b[0mself\u001b[0m\u001b[0;34m.\u001b[0m\u001b[0mgetPopulations\u001b[0m\u001b[0;34m(\u001b[0m\u001b[0mx\u001b[0m\u001b[0;34m,\u001b[0m \u001b[0mden\u001b[0m\u001b[0;34m)\u001b[0m\u001b[0;34m\u001b[0m\u001b[0;34m\u001b[0m\u001b[0m\n",
      "\u001b[0;32m~/Google Drive/Pro/PyNeb_devel/pyneb/core/pynebcore.py\u001b[0m in \u001b[0;36mgetPopulations\u001b[0;34m(self, tem, den, product, NLevels)\u001b[0m\n\u001b[1;32m   1700\u001b[0m             \u001b[0;32mfor\u001b[0m \u001b[0mi_tem\u001b[0m \u001b[0;32min\u001b[0m \u001b[0mrange\u001b[0m\u001b[0;34m(\u001b[0m\u001b[0mn_tem\u001b[0m\u001b[0;34m)\u001b[0m\u001b[0;34m:\u001b[0m\u001b[0;34m\u001b[0m\u001b[0;34m\u001b[0m\u001b[0m\n\u001b[1;32m   1701\u001b[0m                 \u001b[0;32mfor\u001b[0m \u001b[0mi_den\u001b[0m \u001b[0;32min\u001b[0m \u001b[0mrange\u001b[0m\u001b[0;34m(\u001b[0m\u001b[0mn_den\u001b[0m\u001b[0;34m)\u001b[0m\u001b[0;34m:\u001b[0m\u001b[0;34m\u001b[0m\u001b[0;34m\u001b[0m\u001b[0m\n\u001b[0;32m-> 1702\u001b[0;31m                     \u001b[0mpop_result\u001b[0m\u001b[0;34m[\u001b[0m\u001b[0;34m:\u001b[0m\u001b[0;34m,\u001b[0m \u001b[0mi_tem\u001b[0m\u001b[0;34m,\u001b[0m \u001b[0mi_den\u001b[0m\u001b[0;34m]\u001b[0m \u001b[0;34m=\u001b[0m \u001b[0msolve\u001b[0m\u001b[0;34m(\u001b[0m\u001b[0mnp\u001b[0m\u001b[0;34m.\u001b[0m\u001b[0msqueeze\u001b[0m\u001b[0;34m(\u001b[0m\u001b[0mcoeff_matrix\u001b[0m\u001b[0;34m[\u001b[0m\u001b[0;34m:\u001b[0m\u001b[0;34m,\u001b[0m \u001b[0;34m:\u001b[0m\u001b[0;34m,\u001b[0m \u001b[0mi_tem\u001b[0m\u001b[0;34m,\u001b[0m \u001b[0mi_den\u001b[0m\u001b[0;34m]\u001b[0m\u001b[0;34m)\u001b[0m\u001b[0;34m,\u001b[0m \u001b[0mvect\u001b[0m\u001b[0;34m)\u001b[0m\u001b[0;34m\u001b[0m\u001b[0;34m\u001b[0m\u001b[0m\n\u001b[0m\u001b[1;32m   1703\u001b[0m                     \u001b[0;32mtry\u001b[0m\u001b[0;34m:\u001b[0m\u001b[0;34m\u001b[0m\u001b[0;34m\u001b[0m\u001b[0m\n\u001b[1;32m   1704\u001b[0m                         \u001b[0mpop_result\u001b[0m\u001b[0;34m[\u001b[0m\u001b[0;34m:\u001b[0m\u001b[0;34m,\u001b[0m \u001b[0mi_tem\u001b[0m\u001b[0;34m,\u001b[0m \u001b[0mi_den\u001b[0m\u001b[0;34m]\u001b[0m \u001b[0;34m=\u001b[0m \u001b[0msolve\u001b[0m\u001b[0;34m(\u001b[0m\u001b[0mnp\u001b[0m\u001b[0;34m.\u001b[0m\u001b[0msqueeze\u001b[0m\u001b[0;34m(\u001b[0m\u001b[0mcoeff_matrix\u001b[0m\u001b[0;34m[\u001b[0m\u001b[0;34m:\u001b[0m\u001b[0;34m,\u001b[0m \u001b[0;34m:\u001b[0m\u001b[0;34m,\u001b[0m \u001b[0mi_tem\u001b[0m\u001b[0;34m,\u001b[0m \u001b[0mi_den\u001b[0m\u001b[0;34m]\u001b[0m\u001b[0;34m)\u001b[0m\u001b[0;34m,\u001b[0m \u001b[0mvect\u001b[0m\u001b[0;34m)\u001b[0m\u001b[0;34m\u001b[0m\u001b[0;34m\u001b[0m\u001b[0m\n",
      "\u001b[0;32m~/Google Drive/Pro/PyNeb_devel/pyneb/utils/misc.py\u001b[0m in \u001b[0;36msolve\u001b[0;34m(a, b)\u001b[0m\n\u001b[1;32m    515\u001b[0m \u001b[0;31m#@profile\u001b[0m\u001b[0;34m\u001b[0m\u001b[0;34m\u001b[0m\u001b[0;34m\u001b[0m\u001b[0m\n\u001b[1;32m    516\u001b[0m \u001b[0;32mdef\u001b[0m \u001b[0msolve\u001b[0m\u001b[0;34m(\u001b[0m\u001b[0ma\u001b[0m\u001b[0;34m,\u001b[0m \u001b[0mb\u001b[0m\u001b[0;34m)\u001b[0m\u001b[0;34m:\u001b[0m\u001b[0;34m\u001b[0m\u001b[0;34m\u001b[0m\u001b[0m\n\u001b[0;32m--> 517\u001b[0;31m     \u001b[0;32mreturn\u001b[0m \u001b[0msolve_np\u001b[0m\u001b[0;34m(\u001b[0m\u001b[0ma\u001b[0m\u001b[0;34m,\u001b[0m\u001b[0mb\u001b[0m\u001b[0;34m)\u001b[0m\u001b[0;34m\u001b[0m\u001b[0;34m\u001b[0m\u001b[0m\n\u001b[0m\u001b[1;32m    518\u001b[0m \u001b[0;34m\u001b[0m\u001b[0m\n",
      "\u001b[0;32m<__array_function__ internals>\u001b[0m in \u001b[0;36msolve\u001b[0;34m(*args, **kwargs)\u001b[0m\n",
      "\u001b[0;32m~/anaconda3/lib/python3.7/site-packages/numpy/linalg/linalg.py\u001b[0m in \u001b[0;36msolve\u001b[0;34m(a, b)\u001b[0m\n\u001b[1;32m    381\u001b[0m     \u001b[0m_assert_stacked_square\u001b[0m\u001b[0;34m(\u001b[0m\u001b[0ma\u001b[0m\u001b[0;34m)\u001b[0m\u001b[0;34m\u001b[0m\u001b[0;34m\u001b[0m\u001b[0m\n\u001b[1;32m    382\u001b[0m     \u001b[0mb\u001b[0m\u001b[0;34m,\u001b[0m \u001b[0mwrap\u001b[0m \u001b[0;34m=\u001b[0m \u001b[0m_makearray\u001b[0m\u001b[0;34m(\u001b[0m\u001b[0mb\u001b[0m\u001b[0;34m)\u001b[0m\u001b[0;34m\u001b[0m\u001b[0;34m\u001b[0m\u001b[0m\n\u001b[0;32m--> 383\u001b[0;31m     \u001b[0mt\u001b[0m\u001b[0;34m,\u001b[0m \u001b[0mresult_t\u001b[0m \u001b[0;34m=\u001b[0m \u001b[0m_commonType\u001b[0m\u001b[0;34m(\u001b[0m\u001b[0ma\u001b[0m\u001b[0;34m,\u001b[0m \u001b[0mb\u001b[0m\u001b[0;34m)\u001b[0m\u001b[0;34m\u001b[0m\u001b[0;34m\u001b[0m\u001b[0m\n\u001b[0m\u001b[1;32m    384\u001b[0m \u001b[0;34m\u001b[0m\u001b[0m\n\u001b[1;32m    385\u001b[0m     \u001b[0;31m# We use the b = (..., M,) logic, only if the number of extra dimensions\u001b[0m\u001b[0;34m\u001b[0m\u001b[0;34m\u001b[0m\u001b[0;34m\u001b[0m\u001b[0m\n",
      "\u001b[0;32m~/anaconda3/lib/python3.7/site-packages/numpy/linalg/linalg.py\u001b[0m in \u001b[0;36m_commonType\u001b[0;34m(*arrays)\u001b[0m\n\u001b[1;32m    141\u001b[0m             \u001b[0;32mif\u001b[0m \u001b[0misComplexType\u001b[0m\u001b[0;34m(\u001b[0m\u001b[0ma\u001b[0m\u001b[0;34m.\u001b[0m\u001b[0mdtype\u001b[0m\u001b[0;34m.\u001b[0m\u001b[0mtype\u001b[0m\u001b[0;34m)\u001b[0m\u001b[0;34m:\u001b[0m\u001b[0;34m\u001b[0m\u001b[0;34m\u001b[0m\u001b[0m\n\u001b[1;32m    142\u001b[0m                 \u001b[0mis_complex\u001b[0m \u001b[0;34m=\u001b[0m \u001b[0;32mTrue\u001b[0m\u001b[0;34m\u001b[0m\u001b[0;34m\u001b[0m\u001b[0m\n\u001b[0;32m--> 143\u001b[0;31m             \u001b[0mrt\u001b[0m \u001b[0;34m=\u001b[0m \u001b[0m_realType\u001b[0m\u001b[0;34m(\u001b[0m\u001b[0ma\u001b[0m\u001b[0;34m.\u001b[0m\u001b[0mdtype\u001b[0m\u001b[0;34m.\u001b[0m\u001b[0mtype\u001b[0m\u001b[0;34m,\u001b[0m \u001b[0mdefault\u001b[0m\u001b[0;34m=\u001b[0m\u001b[0;32mNone\u001b[0m\u001b[0;34m)\u001b[0m\u001b[0;34m\u001b[0m\u001b[0;34m\u001b[0m\u001b[0m\n\u001b[0m\u001b[1;32m    144\u001b[0m             \u001b[0;32mif\u001b[0m \u001b[0mrt\u001b[0m \u001b[0;32mis\u001b[0m \u001b[0;32mNone\u001b[0m\u001b[0;34m:\u001b[0m\u001b[0;34m\u001b[0m\u001b[0;34m\u001b[0m\u001b[0m\n\u001b[1;32m    145\u001b[0m                 \u001b[0;31m# unsupported inexact scalar\u001b[0m\u001b[0;34m\u001b[0m\u001b[0;34m\u001b[0m\u001b[0;34m\u001b[0m\u001b[0m\n",
      "\u001b[0;32m~/anaconda3/lib/python3.7/site-packages/numpy/linalg/linalg.py\u001b[0m in \u001b[0;36m_realType\u001b[0;34m(t, default)\u001b[0m\n\u001b[1;32m    124\u001b[0m \u001b[0;34m\u001b[0m\u001b[0m\n\u001b[1;32m    125\u001b[0m \u001b[0;32mdef\u001b[0m \u001b[0m_realType\u001b[0m\u001b[0;34m(\u001b[0m\u001b[0mt\u001b[0m\u001b[0;34m,\u001b[0m \u001b[0mdefault\u001b[0m\u001b[0;34m=\u001b[0m\u001b[0mdouble\u001b[0m\u001b[0;34m)\u001b[0m\u001b[0;34m:\u001b[0m\u001b[0;34m\u001b[0m\u001b[0;34m\u001b[0m\u001b[0m\n\u001b[0;32m--> 126\u001b[0;31m     \u001b[0;32mreturn\u001b[0m \u001b[0m_real_types_map\u001b[0m\u001b[0;34m.\u001b[0m\u001b[0mget\u001b[0m\u001b[0;34m(\u001b[0m\u001b[0mt\u001b[0m\u001b[0;34m,\u001b[0m \u001b[0mdefault\u001b[0m\u001b[0;34m)\u001b[0m\u001b[0;34m\u001b[0m\u001b[0;34m\u001b[0m\u001b[0m\n\u001b[0m\u001b[1;32m    127\u001b[0m \u001b[0;34m\u001b[0m\u001b[0m\n\u001b[1;32m    128\u001b[0m \u001b[0;32mdef\u001b[0m \u001b[0m_complexType\u001b[0m\u001b[0;34m(\u001b[0m\u001b[0mt\u001b[0m\u001b[0;34m,\u001b[0m \u001b[0mdefault\u001b[0m\u001b[0;34m=\u001b[0m\u001b[0mcdouble\u001b[0m\u001b[0;34m)\u001b[0m\u001b[0;34m:\u001b[0m\u001b[0;34m\u001b[0m\u001b[0;34m\u001b[0m\u001b[0m\n",
      "\u001b[0;31mKeyboardInterrupt\u001b[0m: "
     ]
    }
   ],
   "source": [
    "start = time.time()\n",
    "resa = O3.getTemDen(ratio, den=1e2, wave1=5007, wave2=4363)\n",
    "\n",
    "resb = O3.getTemDen(ratio, den=den, wave1=5007, wave2=4363)\n",
    "resc = N2.getTemDen(ratio, den=den,\n",
    "                       to_eval = '(L(6584) + L(6548)) / L(5755)')\n",
    "resd = S2.getTemDen(ratio_S2, tem=11000, wave1=6716, wave2=6731)\n",
    "\n",
    "rese = S2.getTemDen(ratio_S2, tem=tem_S2, wave1=6716, wave2=6731)\n",
    "end = time.time()\n",
    "print(end-start)"
   ]
  },
  {
   "cell_type": "code",
   "execution_count": 6,
   "metadata": {},
   "outputs": [],
   "source": [
    "pn.config.use_multiprocs()"
   ]
  },
  {
   "cell_type": "code",
   "execution_count": 7,
   "metadata": {},
   "outputs": [
    {
     "name": "stdout",
     "output_type": "stream",
     "text": [
      "12.611578941345215\n"
     ]
    }
   ],
   "source": [
    "start = time.time()\n",
    "resa = O3.getTemDen(ratio, den=1e2, wave1=5007, wave2=4363)\n",
    "\n",
    "resb = O3.getTemDen(ratio, den=den, wave1=5007, wave2=4363)\n",
    "resc = N2.getTemDen(ratio, den=den,\n",
    "                       to_eval = '(L(6584) + L(6548)) / L(5755)')\n",
    "resd = S2.getTemDen(ratio_S2, tem=11000, wave1=6716, wave2=6731)\n",
    "\n",
    "rese = S2.getTemDen(ratio_S2, tem=tem_S2, wave1=6716, wave2=6731)\n",
    "end = time.time()\n",
    "print(end-start)"
   ]
  },
  {
   "cell_type": "code",
   "execution_count": 8,
   "metadata": {},
   "outputs": [
    {
     "name": "stdout",
     "output_type": "stream",
     "text": [
      "Instantiation. V 0.17\n",
      "Training set size = 30, Test set size = 0\n",
      "Train data scaled. Log10 applied. \n",
      "Test data scaled. \n",
      "Training set size = 30, Test set size = 0\n",
      "Training set size = 30, Test set size = 0\n",
      "Regression Model SK_ANN\n",
      "Training 2 inputs for 1 outputs with 30 data\n",
      "RM trained, with 301 iterations. Score = 1.000\n",
      "MLPRegressor(activation='tanh', hidden_layer_sizes=(10, 10), max_iter=20000,\n",
      "             solver='lbfgs', tol=1e-06)\n",
      "Training time 0.1 s.\n",
      "Test data scaled. Log10 applied. \n",
      "Training set size = 30, Test set size = 1000\n",
      "Predicting from 2 inputs to 1 outputs using 1000 data in 0.00 secs.\n",
      "Instantiation. V 0.17\n",
      "Training set size = 900, Test set size = 0\n",
      "Train data scaled. Log10 applied. \n",
      "Test data scaled. \n",
      "Training set size = 900, Test set size = 0\n",
      "Training set size = 900, Test set size = 0\n",
      "Regression Model SK_ANN\n",
      "Training 2 inputs for 1 outputs with 900 data\n",
      "RM trained, with 440 iterations. Score = 1.000\n",
      "MLPRegressor(activation='tanh', hidden_layer_sizes=(10, 10), max_iter=20000,\n",
      "             solver='lbfgs', tol=1e-06)\n",
      "Training time 0.3 s.\n",
      "Test data scaled. Log10 applied. \n",
      "Training set size = 900, Test set size = 1000\n",
      "Predicting from 2 inputs to 1 outputs using 1000 data in 0.00 secs.\n",
      "Instantiation. V 0.17\n",
      "Training set size = 900, Test set size = 0\n",
      "Train data scaled. Log10 applied. \n",
      "Test data scaled. \n",
      "Training set size = 900, Test set size = 0\n",
      "Training set size = 900, Test set size = 0\n",
      "Regression Model SK_ANN\n",
      "Training 2 inputs for 1 outputs with 900 data\n",
      "RM trained, with 300 iterations. Score = 1.000\n",
      "MLPRegressor(activation='tanh', hidden_layer_sizes=(10, 10), max_iter=20000,\n",
      "             solver='lbfgs', tol=1e-06)\n",
      "Training time 0.2 s.\n",
      "Test data scaled. Log10 applied. \n",
      "Training set size = 900, Test set size = 1000\n",
      "Predicting from 2 inputs to 1 outputs using 1000 data in 0.00 secs.\n",
      "Instantiation. V 0.17\n",
      "Training set size = 30, Test set size = 0\n",
      "Train data scaled. Log10 applied. \n",
      "Test data scaled. \n",
      "Training set size = 30, Test set size = 0\n",
      "Training set size = 30, Test set size = 0\n",
      "Regression Model SK_ANN\n",
      "Training 2 inputs for 1 outputs with 30 data\n",
      "RM trained, with 1379 iterations. Score = 1.000\n",
      "MLPRegressor(activation='tanh', hidden_layer_sizes=(10, 10), max_iter=20000,\n",
      "             solver='lbfgs', tol=1e-06)\n",
      "Training time 0.4 s.\n",
      "Test data scaled. Log10 applied. \n",
      "Training set size = 30, Test set size = 1000\n",
      "Predicting from 2 inputs to 1 outputs using 1000 data in 0.00 secs.\n",
      "Instantiation. V 0.17\n",
      "Training set size = 900, Test set size = 0\n",
      "Train data scaled. Log10 applied. \n",
      "Test data scaled. \n",
      "Training set size = 900, Test set size = 0\n",
      "Training set size = 900, Test set size = 0\n",
      "Regression Model SK_ANN\n",
      "Training 2 inputs for 1 outputs with 900 data\n",
      "RM trained, with 1242 iterations. Score = 1.000\n",
      "MLPRegressor(activation='tanh', hidden_layer_sizes=(10, 10), max_iter=20000,\n",
      "             solver='lbfgs', tol=1e-06)\n",
      "Training time 0.9 s.\n",
      "Test data scaled. Log10 applied. \n",
      "Training set size = 900, Test set size = 1000\n",
      "Predicting from 2 inputs to 1 outputs using 1000 data in 0.00 secs.\n",
      "2.1021597385406494\n"
     ]
    }
   ],
   "source": [
    "start = time.time()\n",
    "# Set the Artificial Neuron Network verobosity to True:\n",
    "O3.ANN_inst_kwargs['verbose'] = True\n",
    "res2a = O3.getTemDen(ratio, den=1e2, wave1=5007, wave2=4363, method='ANN')\n",
    "\n",
    "res2b = O3.getTemDen(ratio, den=den, wave1=5007, wave2=4363, method='ANN')\n",
    "N2.ANN_inst_kwargs['verbose'] = True\n",
    "res2c = N2.getTemDen(ratio, den=den,\n",
    "                        to_eval = '(L(6584) + L(6548)) / L(5755)',\n",
    "                        method='ANN')\n",
    "S2.ANN_inst_kwargs['verbose'] = True\n",
    "res2d = S2.getTemDen(ratio_S2, tem=11000, wave1=6716, wave2=6731,\n",
    "                         method='ANN', end_x=1e4)\n",
    "res2e = S2.getTemDen(ratio_S2, tem=tem_S2, wave1=6716, wave2=6731,\n",
    "                        method='ANN', end_x=1e4)\n",
    "\n",
    "end = time.time()\n",
    "print(end-start)"
   ]
  },
  {
   "cell_type": "code",
   "execution_count": 9,
   "metadata": {},
   "outputs": [
    {
     "name": "stdout",
     "output_type": "stream",
     "text": [
      "0.9855241000183226 0.001666799236078673\n",
      "1.002702581349611 0.0016169579076851374\n",
      "0.9995256689866661 0.001498990471096166\n",
      "0.9971243421551492 0.008909597124836483\n",
      "0.995962542945527 0.007307916627793927\n"
     ]
    }
   ],
   "source": [
    "# Compare the results\n",
    "print(np.mean(resa/res2a), np.std(resa/res2a))\n",
    "print(np.mean(resb/res2b), np.std(resb/res2b))\n",
    "print(np.mean(resc/res2c), np.std(resc/res2c))\n",
    "print(np.mean(resd/res2d), np.std(resd/res2d))\n",
    "print(np.mean(rese/res2e), np.std(rese/res2e))"
   ]
  },
  {
   "cell_type": "markdown",
   "metadata": {},
   "source": [
    "# Test diagnostics.getCrossTemDen"
   ]
  },
  {
   "cell_type": "code",
   "execution_count": 40,
   "metadata": {},
   "outputs": [],
   "source": [
    "N = 2000\n",
    "rO3 = 0.0050 * (1 + 0.6*np.random.randn(N))\n",
    "rN2 = 0.0080 * (1 + 0.6*np.random.randn(N))\n",
    "rS2 = 1.5 * (1 + 0.7*np.random.randn(N))"
   ]
  },
  {
   "cell_type": "code",
   "execution_count": 41,
   "metadata": {},
   "outputs": [],
   "source": [
    "diags = pn.Diagnostics()"
   ]
  },
  {
   "cell_type": "code",
   "execution_count": 42,
   "metadata": {},
   "outputs": [
    {
     "name": "stdout",
     "output_type": "stream",
     "text": [
      "time for classical method: 182.447404 s.\n"
     ]
    }
   ],
   "source": [
    "# Normal way: looking for the point where both diagnostics coincide:\n",
    "start = time.time()\n",
    "tem, den = diags.getCrossTemDen('[OIII] 4363/5007', '[SII] 6731/6716', rO3, rS2)\n",
    "tem2, den2 = diags.getCrossTemDen('[NII] 5755/6584', '[SII] 6731/6716', rN2, rS2)\n",
    "end = time.time()\n",
    "print('time for classical method: {:1f} s.'.format(end - start))"
   ]
  },
  {
   "cell_type": "code",
   "execution_count": 43,
   "metadata": {},
   "outputs": [],
   "source": [
    "diags.ANN_inst_kwargs = {'RM_type' : 'SK_SVM', \n",
    "                         'verbose' : True, \n",
    "                         'scaling' : True,\n",
    "                         'use_log' : True\n",
    "                                }\n",
    "diags.ANN_init_kwargs = {'C' : 1000, \n",
    "                         'cache_size' : 200, \n",
    "                         'coef0' : 0.0, \n",
    "                         'degree' : 3, \n",
    "                         'epsilon' : 0.1, \n",
    "                         'gamma' : 'scale',\n",
    "                         'kernel' : 'rbf', \n",
    "                         'max_iter' : -1, \n",
    "                         'shrinking' : True, \n",
    "                         'tol' : 0.00001}\n"
   ]
  },
  {
   "cell_type": "code",
   "execution_count": 44,
   "metadata": {},
   "outputs": [],
   "source": [
    "diags.ANN_inst_kwargs = {'RM_type' : 'XGB', \n",
    "                         'verbose' : True, \n",
    "                         'scaling' : True,\n",
    "                         'use_log' : True\n",
    "                                }\n",
    "diags.ANN_init_kwargs = {'n_estimators':1000,\n",
    "                        'max_depth':6}"
   ]
  },
  {
   "cell_type": "code",
   "execution_count": 45,
   "metadata": {},
   "outputs": [],
   "source": [
    "# Set up some parameters of the Regresor Method object\n",
    "diags.ANN_inst_kwargs = {'RM_type' : 'SK_ANN', \n",
    "                         'verbose' : True, \n",
    "                         'scaling' : True,\n",
    "                         'use_log' : True,\n",
    "                         'random_seed' : 43\n",
    "                                }\n",
    "\n",
    "# Set up some parameters of the Analogic Neural Network\n",
    "diags.ANN_init_kwargs = {'hidden_layer_sizes' : (10, 30, 10),\n",
    "                         'activation' : 'tanh',\n",
    "                         'solver' : 'lbfgs', \n",
    "                         'max_iter' : 20000} \n",
    "\n",
    "diags.ANN_n_tem = 30\n",
    "diags.ANN_n_den = 30"
   ]
  },
  {
   "cell_type": "code",
   "execution_count": 46,
   "metadata": {},
   "outputs": [
    {
     "name": "stdout",
     "output_type": "stream",
     "text": [
      "Instantiation. V 0.17\n",
      "Training set size = 900, Test set size = 0\n",
      "Train data scaled. Log10 applied. \n",
      "Test data scaled. \n",
      "Training set size = 900, Test set size = 0\n",
      "Training set size = 900, Test set size = 0\n",
      "Regression Model SK_ANN\n",
      "Training 2 inputs for 2 outputs with 900 data\n",
      "RM trained, with 10064 iterations. Score = 0.999\n",
      "MLPRegressor(activation='tanh', hidden_layer_sizes=(10, 30, 10), max_iter=20000,\n",
      "             random_state=43, solver='lbfgs')\n",
      "Training time 13.8 s.\n",
      "Test data scaled. Log10 applied. \n",
      "Training set size = 900, Test set size = 1765\n",
      "Predicting from 2 inputs to 2 outputs using 1765 data in 0.00 secs.\n",
      "[0.99851671037496]\n",
      "Instantiation. V 0.17\n",
      "Training set size = 900, Test set size = 0\n",
      "Train data scaled. Log10 applied. \n",
      "Test data scaled. \n",
      "Training set size = 900, Test set size = 0\n",
      "Training set size = 900, Test set size = 0\n",
      "Regression Model SK_ANN\n",
      "Training 2 inputs for 2 outputs with 900 data\n"
     ]
    },
    {
     "name": "stderr",
     "output_type": "stream",
     "text": [
      "/Users/christophemorisset/Google Drive/Pro/AI4neb/ai4neb/Regressor/RegressionModel.py:529: RuntimeWarning: invalid value encountered in log10\n",
      "  X = np.log10(X)\n"
     ]
    },
    {
     "name": "stdout",
     "output_type": "stream",
     "text": [
      "RM trained, with 9423 iterations. Score = 0.999\n",
      "MLPRegressor(activation='tanh', hidden_layer_sizes=(10, 30, 10), max_iter=20000,\n",
      "             random_state=43, solver='lbfgs')\n",
      "Training time 12.7 s.\n",
      "Test data scaled. Log10 applied. \n",
      "Training set size = 900, Test set size = 1768\n",
      "Predicting from 2 inputs to 2 outputs using 1768 data in 0.00 secs.\n",
      "[0.998907315818436]\n",
      "time for ANN method: 26.640556 s.\n"
     ]
    },
    {
     "name": "stderr",
     "output_type": "stream",
     "text": [
      "/Users/christophemorisset/Google Drive/Pro/AI4neb/ai4neb/Regressor/RegressionModel.py:529: RuntimeWarning: invalid value encountered in log10\n",
      "  X = np.log10(X)\n"
     ]
    }
   ],
   "source": [
    "# Compute Te and Ne using the ANN. Print scoring at training\n",
    "start = time.time()\n",
    "temNN, denNN = diags.getCrossTemDen('[OIII] 4363/5007', '[SII] 6731/6716', \n",
    "                                    rO3, rS2, \n",
    "                                    use_ANN=True, end_den=1e6, start_tem=3e3,limit_res=False)\n",
    "print(diags.ANN.train_score)\n",
    "temNN2, denNN2 = diags.getCrossTemDen('[NII] 5755/6584', '[SII] 6731/6716', \n",
    "                                      rN2, rS2, \n",
    "                                      use_ANN=True, end_den=1e6, start_tem=3e3,limit_res=False)\n",
    "print(diags.ANN.train_score)\n",
    "end2 = time.time()\n",
    "print('time for ANN method: {:1f} s.'.format(end2 - start))"
   ]
  },
  {
   "cell_type": "code",
   "execution_count": 47,
   "metadata": {},
   "outputs": [
    {
     "data": {
      "image/png": "[encoded data removed]",
      "text/plain": [
       "<Figure size 720x720 with 4 Axes>"
      ]
     },
     "metadata": {
      "needs_background": "light"
     },
     "output_type": "display_data"
    }
   ],
   "source": [
    "# PLots comparing the results obtained by the classicla method and the ANN one\n",
    "# ANN is interpolating, while classicla method is looking for a zero.\n",
    "f, ((ax1, ax2), (ax3, ax4)) = plt.subplots(2, 2, figsize=(10,10))\n",
    "ax1.scatter(tem, (temNN-tem)/tem*100, c=np.log10(den))\n",
    "ax2.scatter(np.log10(den), (denNN-den)/den*100, c=tem)\n",
    "ax3.scatter(tem2, (temNN2-tem2)/tem2*100, c=np.log10(den2))\n",
    "ax4.scatter(np.log10(den2), (denNN2-den2)/den2*100, c=tem2);\n",
    "for ax in (ax1, ax2, ax3, ax4):\n",
    "    ax.set_ylabel('Difference [%]')\n",
    "    ax.set_ylim(-15, 15)"
   ]
  },
  {
   "cell_type": "code",
   "execution_count": 48,
   "metadata": {},
   "outputs": [
    {
     "data": {
      "image/png": "[encoded data removed]",
      "text/plain": [
       "<Figure size 720x720 with 4 Axes>"
      ]
     },
     "metadata": {
      "needs_background": "light"
     },
     "output_type": "display_data"
    }
   ],
   "source": [
    "# Histograms of the differences. Not that bad indeed.\n",
    "f, ((ax1, ax2), (ax3, ax4)) = plt.subplots(2, 2, figsize=(10,10))\n",
    "bins = np.linspace(-3, 3, 100)\n",
    "ax1.hist((tem-temNN)/tem*100, bins=bins)\n",
    "ax2.hist((den-denNN)/den*100, bins=bins);\n",
    "ax3.hist((tem2-temNN2)/tem2*100, bins=bins)\n",
    "ax4.hist((den2-denNN2)/den2*100, bins=bins);\n",
    "for ax in (ax1, ax2, ax3, ax4):\n",
    "    ax.set_xlabel('Difference [%]')"
   ]
  },
  {
   "cell_type": "code",
   "execution_count": 18,
   "metadata": {},
   "outputs": [
    {
     "name": "stdout",
     "output_type": "stream",
     "text": [
      "Instantiation. V 0.17\n",
      "Training set size = 900, Test set size = 0\n",
      "Train data scaled. Log10 applied. \n",
      "Test data scaled. \n",
      "Training set size = 900, Test set size = 0\n",
      "Training set size = 900, Test set size = 0\n",
      "Regression Model SK_ANN\n",
      "Training 2 inputs for 2 outputs with 900 data\n"
     ]
    },
    {
     "name": "stderr",
     "output_type": "stream",
     "text": [
      "/Users/christophemorisset/anaconda3/lib/python3.7/site-packages/sklearn/neural_network/_multilayer_perceptron.py:470: ConvergenceWarning: lbfgs failed to converge (status=1):\n",
      "STOP: TOTAL NO. of f AND g EVALUATIONS EXCEEDS LIMIT.\n",
      "\n",
      "Increase the number of iterations (max_iter) or scale the data as shown in:\n",
      "    https://scikit-learn.org/stable/modules/preprocessing.html\n",
      "  self.n_iter_ = _check_optimize_result(\"lbfgs\", opt_res, self.max_iter)\n",
      "/Users/christophemorisset/Google Drive/Pro/AI4neb/ai4neb/Regressor/RegressionModel.py:513: RuntimeWarning: invalid value encountered in log10\n",
      "  X = np.log10(X)\n"
     ]
    },
    {
     "name": "stdout",
     "output_type": "stream",
     "text": [
      "RM trained, with 13405 iterations. Score = 0.998\n",
      "MLPRegressor(activation='tanh', alpha=0.0001, batch_size='auto', beta_1=0.9,\n",
      "             beta_2=0.999, early_stopping=False, epsilon=1e-08,\n",
      "             hidden_layer_sizes=(10, 30, 10), learning_rate='constant',\n",
      "             learning_rate_init=0.001, max_fun=15000, max_iter=20000,\n",
      "             momentum=0.9, n_iter_no_change=10, nesterovs_momentum=True,\n",
      "             power_t=0.5, random_state=42, shuffle=True, solver='lbfgs',\n",
      "             tol=0.0001, validation_fraction=0.1, verbose=False,\n",
      "             warm_start=False)\n",
      "Training time 17.7 s.\n",
      "Test data scaled. Log10 applied. \n",
      "Training set size = 900, Test set size = 1751\n",
      "Predicting from 2 inputs to 2 outputs using 1751 data in 0.00 secs.\n",
      "Instantiation. V 0.17\n",
      "Training set size = 900, Test set size = 0\n",
      "Train data scaled. Log10 applied. \n",
      "Test data scaled. \n",
      "Training set size = 900, Test set size = 0\n",
      "Training set size = 900, Test set size = 0\n",
      "Regression Model SK_ANN\n",
      "Training 2 inputs for 2 outputs with 900 data\n",
      "RM trained, with 7852 iterations. Score = 0.998\n",
      "MLPRegressor(activation='tanh', alpha=0.0001, batch_size='auto', beta_1=0.9,\n",
      "             beta_2=0.999, early_stopping=False, epsilon=1e-08,\n",
      "             hidden_layer_sizes=(10, 30, 10), learning_rate='constant',\n",
      "             learning_rate_init=0.001, max_fun=15000, max_iter=20000,\n",
      "             momentum=0.9, n_iter_no_change=10, nesterovs_momentum=True,\n",
      "             power_t=0.5, random_state=42, shuffle=True, solver='lbfgs',\n",
      "             tol=0.0001, validation_fraction=0.1, verbose=False,\n",
      "             warm_start=False)\n",
      "Training time 10.1 s.\n",
      "Test data scaled. Log10 applied. \n",
      "Training set size = 900, Test set size = 1763\n",
      "Predicting from 2 inputs to 2 outputs using 1763 data in 0.00 secs.\n",
      "Instantiation. V 0.17\n",
      "Training set size = 900, Test set size = 0\n",
      "Train data scaled. Log10 applied. \n",
      "Test data scaled. \n",
      "Training set size = 900, Test set size = 0\n",
      "Training set size = 900, Test set size = 0\n",
      "Regression Model SK_ANN\n",
      "Training 2 inputs for 2 outputs with 900 data\n"
     ]
    },
    {
     "name": "stderr",
     "output_type": "stream",
     "text": [
      "/Users/christophemorisset/Google Drive/Pro/AI4neb/ai4neb/Regressor/RegressionModel.py:513: RuntimeWarning: invalid value encountered in log10\n",
      "  X = np.log10(X)\n"
     ]
    },
    {
     "name": "stdout",
     "output_type": "stream",
     "text": [
      "RM trained, with 12997 iterations. Score = 0.999\n",
      "MLPRegressor(activation='tanh', alpha=0.0001, batch_size='auto', beta_1=0.9,\n",
      "             beta_2=0.999, early_stopping=False, epsilon=1e-08,\n",
      "             hidden_layer_sizes=(10, 30, 10), learning_rate='constant',\n",
      "             learning_rate_init=0.001, max_fun=15000, max_iter=20000,\n",
      "             momentum=0.9, n_iter_no_change=10, nesterovs_momentum=True,\n",
      "             power_t=0.5, random_state=44, shuffle=True, solver='lbfgs',\n",
      "             tol=0.0001, validation_fraction=0.1, verbose=False,\n",
      "             warm_start=False)\n",
      "Training time 16.6 s.\n",
      "Test data scaled. Log10 applied. \n",
      "Training set size = 900, Test set size = 1751\n",
      "Predicting from 2 inputs to 2 outputs using 1751 data in 0.00 secs.\n",
      "Instantiation. V 0.17\n",
      "Training set size = 900, Test set size = 0\n",
      "Train data scaled. Log10 applied. \n",
      "Test data scaled. \n",
      "Training set size = 900, Test set size = 0\n",
      "Training set size = 900, Test set size = 0\n",
      "Regression Model SK_ANN\n",
      "Training 2 inputs for 2 outputs with 900 data\n"
     ]
    },
    {
     "name": "stderr",
     "output_type": "stream",
     "text": [
      "/Users/christophemorisset/Google Drive/Pro/AI4neb/ai4neb/Regressor/RegressionModel.py:513: RuntimeWarning: invalid value encountered in log10\n",
      "  X = np.log10(X)\n",
      "/Users/christophemorisset/anaconda3/lib/python3.7/site-packages/sklearn/neural_network/_multilayer_perceptron.py:470: ConvergenceWarning: lbfgs failed to converge (status=1):\n",
      "STOP: TOTAL NO. of f AND g EVALUATIONS EXCEEDS LIMIT.\n",
      "\n",
      "Increase the number of iterations (max_iter) or scale the data as shown in:\n",
      "    https://scikit-learn.org/stable/modules/preprocessing.html\n",
      "  self.n_iter_ = _check_optimize_result(\"lbfgs\", opt_res, self.max_iter)\n",
      "/Users/christophemorisset/Google Drive/Pro/AI4neb/ai4neb/Regressor/RegressionModel.py:513: RuntimeWarning: invalid value encountered in log10\n",
      "  X = np.log10(X)\n"
     ]
    },
    {
     "name": "stdout",
     "output_type": "stream",
     "text": [
      "RM trained, with 13177 iterations. Score = 0.999\n",
      "MLPRegressor(activation='tanh', alpha=0.0001, batch_size='auto', beta_1=0.9,\n",
      "             beta_2=0.999, early_stopping=False, epsilon=1e-08,\n",
      "             hidden_layer_sizes=(10, 30, 10), learning_rate='constant',\n",
      "             learning_rate_init=0.001, max_fun=15000, max_iter=20000,\n",
      "             momentum=0.9, n_iter_no_change=10, nesterovs_momentum=True,\n",
      "             power_t=0.5, random_state=44, shuffle=True, solver='lbfgs',\n",
      "             tol=0.0001, validation_fraction=0.1, verbose=False,\n",
      "             warm_start=False)\n",
      "Training time 17.2 s.\n",
      "Test data scaled. Log10 applied. \n",
      "Training set size = 900, Test set size = 1763\n",
      "Predicting from 2 inputs to 2 outputs using 1763 data in 0.00 secs.\n",
      "Instantiation. V 0.17\n",
      "Training set size = 900, Test set size = 0\n",
      "Train data scaled. Log10 applied. \n",
      "Test data scaled. \n",
      "Training set size = 900, Test set size = 0\n",
      "Training set size = 900, Test set size = 0\n",
      "Regression Model SK_ANN\n",
      "Training 2 inputs for 2 outputs with 900 data\n",
      "RM trained, with 9122 iterations. Score = 0.998\n",
      "MLPRegressor(activation='tanh', alpha=0.0001, batch_size='auto', beta_1=0.9,\n",
      "             beta_2=0.999, early_stopping=False, epsilon=1e-08,\n",
      "             hidden_layer_sizes=(10, 30, 10), learning_rate='constant',\n",
      "             learning_rate_init=0.001, max_fun=15000, max_iter=20000,\n",
      "             momentum=0.9, n_iter_no_change=10, nesterovs_momentum=True,\n",
      "             power_t=0.5, random_state=45, shuffle=True, solver='lbfgs',\n",
      "             tol=0.0001, validation_fraction=0.1, verbose=False,\n",
      "             warm_start=False)\n",
      "Training time 11.3 s.\n",
      "Test data scaled. Log10 applied. \n",
      "Training set size = 900, Test set size = 1751\n",
      "Predicting from 2 inputs to 2 outputs using 1751 data in 0.00 secs.\n",
      "Instantiation. V 0.17\n",
      "Training set size = 900, Test set size = 0\n",
      "Train data scaled. Log10 applied. \n",
      "Test data scaled. \n",
      "Training set size = 900, Test set size = 0\n",
      "Training set size = 900, Test set size = 0\n",
      "Regression Model SK_ANN\n",
      "Training 2 inputs for 2 outputs with 900 data\n"
     ]
    },
    {
     "name": "stderr",
     "output_type": "stream",
     "text": [
      "/Users/christophemorisset/Google Drive/Pro/AI4neb/ai4neb/Regressor/RegressionModel.py:513: RuntimeWarning: invalid value encountered in log10\n",
      "  X = np.log10(X)\n"
     ]
    },
    {
     "name": "stdout",
     "output_type": "stream",
     "text": [
      "RM trained, with 9507 iterations. Score = 0.999\n",
      "MLPRegressor(activation='tanh', alpha=0.0001, batch_size='auto', beta_1=0.9,\n",
      "             beta_2=0.999, early_stopping=False, epsilon=1e-08,\n",
      "             hidden_layer_sizes=(10, 30, 10), learning_rate='constant',\n",
      "             learning_rate_init=0.001, max_fun=15000, max_iter=20000,\n",
      "             momentum=0.9, n_iter_no_change=10, nesterovs_momentum=True,\n",
      "             power_t=0.5, random_state=45, shuffle=True, solver='lbfgs',\n",
      "             tol=0.0001, validation_fraction=0.1, verbose=False,\n",
      "             warm_start=False)\n",
      "Training time 12.2 s.\n",
      "Test data scaled. Log10 applied. \n",
      "Training set size = 900, Test set size = 1763\n",
      "Predicting from 2 inputs to 2 outputs using 1763 data in 0.00 secs.\n",
      "Instantiation. V 0.17\n",
      "Training set size = 900, Test set size = 0\n",
      "Train data scaled. Log10 applied. \n",
      "Test data scaled. \n",
      "Training set size = 900, Test set size = 0\n",
      "Training set size = 900, Test set size = 0\n",
      "Regression Model SK_ANN\n",
      "Training 2 inputs for 2 outputs with 900 data\n"
     ]
    },
    {
     "name": "stderr",
     "output_type": "stream",
     "text": [
      "/Users/christophemorisset/Google Drive/Pro/AI4neb/ai4neb/Regressor/RegressionModel.py:513: RuntimeWarning: invalid value encountered in log10\n",
      "  X = np.log10(X)\n",
      "/Users/christophemorisset/anaconda3/lib/python3.7/site-packages/sklearn/neural_network/_multilayer_perceptron.py:470: ConvergenceWarning: lbfgs failed to converge (status=1):\n",
      "STOP: TOTAL NO. of f AND g EVALUATIONS EXCEEDS LIMIT.\n",
      "\n",
      "Increase the number of iterations (max_iter) or scale the data as shown in:\n",
      "    https://scikit-learn.org/stable/modules/preprocessing.html\n",
      "  self.n_iter_ = _check_optimize_result(\"lbfgs\", opt_res, self.max_iter)\n",
      "/Users/christophemorisset/Google Drive/Pro/AI4neb/ai4neb/Regressor/RegressionModel.py:513: RuntimeWarning: invalid value encountered in log10\n",
      "  X = np.log10(X)\n"
     ]
    },
    {
     "name": "stdout",
     "output_type": "stream",
     "text": [
      "RM trained, with 13818 iterations. Score = 0.999\n",
      "MLPRegressor(activation='tanh', alpha=0.0001, batch_size='auto', beta_1=0.9,\n",
      "             beta_2=0.999, early_stopping=False, epsilon=1e-08,\n",
      "             hidden_layer_sizes=(10, 30, 10), learning_rate='constant',\n",
      "             learning_rate_init=0.001, max_fun=15000, max_iter=20000,\n",
      "             momentum=0.9, n_iter_no_change=10, nesterovs_momentum=True,\n",
      "             power_t=0.5, random_state=46, shuffle=True, solver='lbfgs',\n",
      "             tol=0.0001, validation_fraction=0.1, verbose=False,\n",
      "             warm_start=False)\n",
      "Training time 18.2 s.\n",
      "Test data scaled. Log10 applied. \n",
      "Training set size = 900, Test set size = 1751\n",
      "Predicting from 2 inputs to 2 outputs using 1751 data in 0.00 secs.\n",
      "Instantiation. V 0.17\n",
      "Training set size = 900, Test set size = 0\n",
      "Train data scaled. Log10 applied. \n",
      "Test data scaled. \n",
      "Training set size = 900, Test set size = 0\n",
      "Training set size = 900, Test set size = 0\n",
      "Regression Model SK_ANN\n",
      "Training 2 inputs for 2 outputs with 900 data\n",
      "RM trained, with 12894 iterations. Score = 0.998\n",
      "MLPRegressor(activation='tanh', alpha=0.0001, batch_size='auto', beta_1=0.9,\n",
      "             beta_2=0.999, early_stopping=False, epsilon=1e-08,\n",
      "             hidden_layer_sizes=(10, 30, 10), learning_rate='constant',\n",
      "             learning_rate_init=0.001, max_fun=15000, max_iter=20000,\n",
      "             momentum=0.9, n_iter_no_change=10, nesterovs_momentum=True,\n",
      "             power_t=0.5, random_state=46, shuffle=True, solver='lbfgs',\n",
      "             tol=0.0001, validation_fraction=0.1, verbose=False,\n",
      "             warm_start=False)\n",
      "Training time 18.1 s.\n",
      "Test data scaled. Log10 applied. \n",
      "Training set size = 900, Test set size = 1763\n",
      "Predicting from 2 inputs to 2 outputs using 1763 data in 0.00 secs.\n"
     ]
    },
    {
     "name": "stderr",
     "output_type": "stream",
     "text": [
      "/Users/christophemorisset/anaconda3/lib/python3.7/site-packages/sklearn/neural_network/_multilayer_perceptron.py:470: ConvergenceWarning: lbfgs failed to converge (status=1):\n",
      "STOP: TOTAL NO. of f AND g EVALUATIONS EXCEEDS LIMIT.\n",
      "\n",
      "Increase the number of iterations (max_iter) or scale the data as shown in:\n",
      "    https://scikit-learn.org/stable/modules/preprocessing.html\n",
      "  self.n_iter_ = _check_optimize_result(\"lbfgs\", opt_res, self.max_iter)\n",
      "/Users/christophemorisset/Google Drive/Pro/AI4neb/ai4neb/Regressor/RegressionModel.py:513: RuntimeWarning: invalid value encountered in log10\n",
      "  X = np.log10(X)\n"
     ]
    }
   ],
   "source": [
    "# Now we run 4 more ANN to make a mean of the 5 results obtained. Takes time, but if one have 10s of thousands of data, it deserves it.\n",
    "diags.ANN_inst_kwargs['random_seed'] = 42\n",
    "temNNb, denNNb = diags.getCrossTemDen('[OIII] 4363/5007', '[SII] 6731/6716', rO3, rS2, use_ANN=True, end_den=1e6, start_tem=3e3,limit_res=False)\n",
    "temNN2b, denNN2b = diags.getCrossTemDen('[NII] 5755/6584', '[SII] 6731/6716', rN2, rS2, use_ANN=True, end_den=1e6, start_tem=3e3,limit_res=False)\n",
    "diags.ANN_inst_kwargs['random_seed'] = 44\n",
    "temNNc, denNNc = diags.getCrossTemDen('[OIII] 4363/5007', '[SII] 6731/6716', rO3, rS2, use_ANN=True, end_den=1e6, start_tem=3e3,limit_res=False)\n",
    "temNN2c, denNN2c = diags.getCrossTemDen('[NII] 5755/6584', '[SII] 6731/6716', rN2, rS2, use_ANN=True, end_den=1e6, start_tem=3e3,limit_res=False)\n",
    "diags.ANN_inst_kwargs['random_seed'] = 45\n",
    "temNNd, denNNd = diags.getCrossTemDen('[OIII] 4363/5007', '[SII] 6731/6716', rO3, rS2, use_ANN=True, end_den=1e6, start_tem=3e3,limit_res=False)\n",
    "temNN2d, denNN2d = diags.getCrossTemDen('[NII] 5755/6584', '[SII] 6731/6716', rN2, rS2, use_ANN=True, end_den=1e6, start_tem=3e3,limit_res=False)\n",
    "diags.ANN_inst_kwargs['random_seed'] = 46\n",
    "temNNe, denNNe = diags.getCrossTemDen('[OIII] 4363/5007', '[SII] 6731/6716', rO3, rS2, use_ANN=True, end_den=1e6, start_tem=3e3,limit_res=False)\n",
    "temNN2e, denNN2e = diags.getCrossTemDen('[NII] 5755/6584', '[SII] 6731/6716', rN2, rS2, use_ANN=True, end_den=1e6, start_tem=3e3,limit_res=False)"
   ]
  },
  {
   "cell_type": "code",
   "execution_count": 19,
   "metadata": {},
   "outputs": [],
   "source": [
    "# Compute the median of the 5 runs.\n",
    "temNNm = np.median(np.array((temNN, temNNb, temNNc, temNNd, temNNe)),0)\n",
    "temNN2m = np.median(np.array((temNN2, temNN2b, temNN2c, temNN2d, temNN2e)),0)\n",
    "denNNm = np.median(np.array((denNN, denNNb, denNNc, denNNd, denNNe)),0)\n",
    "denNN2m = np.median(np.array((denNN2, denNN2b, denNN2c, denNN2d, denNN2e)),0)"
   ]
  },
  {
   "cell_type": "code",
   "execution_count": 20,
   "metadata": {},
   "outputs": [
    {
     "data": {
      "image/png": "[encoded data removed]",
      "text/plain": [
       "<Figure size 720x720 with 4 Axes>"
      ]
     },
     "metadata": {
      "needs_background": "light"
     },
     "output_type": "display_data"
    }
   ],
   "source": [
    "# Histogram of the differences: even better now.\n",
    "f, ((ax1, ax2), (ax3, ax4)) = plt.subplots(2, 2, figsize=(10,10))\n",
    "ax1.hist((tem-temNNm)/tem*100, bins=np.linspace(-4, 4, 100))\n",
    "ax2.hist((den-denNNm)/den*100, bins=np.linspace(-4, 4, 100));\n",
    "ax3.hist((tem2-temNN2m)/tem2*100, bins=np.linspace(-4, 4, 100))\n",
    "ax4.hist((den2-denNN2m)/den2*100, bins=np.linspace(-4, 4, 100));\n",
    "for ax in (ax1, ax2, ax3, ax4):\n",
    "    ax.set_xlabel('Difference [%]')"
   ]
  },
  {
   "cell_type": "code",
   "execution_count": null,
   "metadata": {},
   "outputs": [],
   "source": []
  }
 ],
 "metadata": {
  "kernelspec": {
   "display_name": "Python 3",
   "language": "python",
   "name": "python3"
  },
  "language_info": {
   "codemirror_mode": {
    "name": "ipython",
    "version": 3
   },
   "file_extension": ".py",
   "mimetype": "text/x-python",
   "name": "python",
   "nbconvert_exporter": "python",
   "pygments_lexer": "ipython3",
   "version": "3.7.9"
  }
 },
 "nbformat": 4,
 "nbformat_minor": 4
}
