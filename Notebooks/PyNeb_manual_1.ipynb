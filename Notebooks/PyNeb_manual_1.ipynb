{
 "cells": [
  {
   "cell_type": "markdown",
   "metadata": {
    "deletable": true,
    "editable": true
   },
   "source": [
    "# Introduction"
   ]
  },
  {
   "cell_type": "markdown",
   "metadata": {
    "deletable": true,
    "editable": true
   },
   "source": [
    "PyNeb is a package for the analysis of emission lines, which evolved from the IRAF package nebular (Shaw and Dufour 1995; Shaw et al 1998). It is a library rather than a code: this means that, to use it, one has to write a python script or enter an interactive python session to call PyNeb classes and functions. In the following we'll provide some examples on how to use the different classes and functions.\n",
    "Please note that the name of the code and the tarball are CapitalCase (PyNeb, PyNeb-[version-number]), whereas the module and directories are all lowercase (pyneb, pynebcore.py, etc)."
   ]
  },
  {
   "cell_type": "markdown",
   "metadata": {
    "deletable": true,
    "editable": true
   },
   "source": [
    "References: Whenever you use PyNeb for calculations that lead to a published paper, you are kindly asked to cite the code as:\n",
    "\n",
    "Luridiana, V., Morisset, C., & Shaw, R. A. 2015: PyNeb: a new tool for the analysis of emission lines.\n",
    "I. Code description and validation of results, A&A, 573, 42\n",
    "\n",
    "The paper is accessible at http://adsabs.harvard.edu/abs/2015A%26A...573A..42L"
   ]
  },
  {
   "cell_type": "markdown",
   "metadata": {
    "deletable": true,
    "editable": true
   },
   "source": [
    "# Installation"
   ]
  },
  {
   "cell_type": "markdown",
   "metadata": {
    "deletable": true,
    "editable": true
   },
   "source": [
    "## Requirements"
   ]
  },
  {
   "cell_type": "markdown",
   "metadata": {
    "deletable": true,
    "editable": true
   },
   "source": [
    "To run PyNeb, you must have python v. 2.6 or above installed (including python 3.n, which is a different python branch), plus the matplotlib, numpy and scipy libraries. Numpy minimum version is 1.5.1."
   ]
  },
  {
   "cell_type": "code",
   "execution_count": 23,
   "metadata": {
    "collapsed": false,
    "deletable": true,
    "editable": true,
    "jupyter": {
     "outputs_hidden": false
    }
   },
   "outputs": [],
   "source": [
    "%matplotlib inline\n",
    "%config InlineBackend.figure_format = 'png'\n",
    "import matplotlib.pyplot as plt"
   ]
  },
  {
   "cell_type": "markdown",
   "metadata": {
    "deletable": true,
    "editable": true
   },
   "source": [
    "## Installing the code with pip"
   ]
  },
  {
   "cell_type": "markdown",
   "metadata": {
    "deletable": true,
    "editable": true
   },
   "source": [
    "This is the easiest way to install or upgrade PyNeb. \n",
    "Once pip is installed (it comes with Anaconda package for example, see https://pypi.python.org/pypi/pip), enter from the command line:\n",
    "\n",
    "    pip install pyneb \n",
    "\n",
    "to install PyNeb and:\n",
    "\n",
    "    pip install --upgrade pyneb\n",
    "\n",
    "for any subsequent upgrade. Uninstalling PyNeb is easy as well:\n",
    "\n",
    "    pip uninstall pyneb\n",
    "\n",
    "PyNeb's webpage at www.iac.es/proyecto/PyNeb contains a Troubleshooting page to address most frequent installation problems. "
   ]
  },
  {
   "cell_type": "code",
   "execution_count": 24,
   "metadata": {
    "deletable": true,
    "editable": true
   },
   "outputs": [],
   "source": [
    "import pyneb as pn # We use the pn alias for PyNeb"
   ]
  },
  {
   "cell_type": "markdown",
   "metadata": {
    "deletable": true,
    "editable": true
   },
   "source": [
    "In the following, we will always assume that the PyNeb package has been imported under the alias “pn”."
   ]
  },
  {
   "cell_type": "code",
   "execution_count": 25,
   "metadata": {
    "collapsed": false,
    "deletable": true,
    "editable": true,
    "jupyter": {
     "outputs_hidden": false
    }
   },
   "outputs": [
    {
     "name": "stdout",
     "output_type": "stream",
     "text": [
      "1.1.12b1\n"
     ]
    }
   ],
   "source": [
    "print(pn.__version__)"
   ]
  },
  {
   "cell_type": "markdown",
   "metadata": {
    "deletable": true,
    "editable": true
   },
   "source": [
    "# First steps using PyNeb"
   ]
  },
  {
   "cell_type": "markdown",
   "metadata": {
    "deletable": true,
    "editable": true
   },
   "source": [
    "A sketch of the organization of PyNeb can help to understand the role played by the different classes."
   ]
  },
  {
   "cell_type": "markdown",
   "metadata": {
    "deletable": true,
    "editable": true
   },
   "source": [
    "![PyNeb organisation](PN_organisation.jpg)"
   ]
  },
  {
   "cell_type": "markdown",
   "metadata": {
    "deletable": true,
    "editable": true
   },
   "source": [
    "The main classes are __Atom__, __RecAtom__, __EmisGrid__, __Observations__, and __Diagnostics__. Some classes use other classes; for example, Atom is used in almost all the other classes. A detailed description of each class is given in the following, and the exhaustive list of all the methods of all the classes is available from the reference manual.\n",
    "\n",
    "Please note: PyNeb uses the Object Oriented (OO) method of programming to define most of its features, but the scripts written as PyNeb wrappers need not be OO; they may follow the more classical functional or structured programming style."
   ]
  },
  {
   "cell_type": "markdown",
   "metadata": {
    "deletable": true,
    "editable": true
   },
   "source": [
    "# How atoms are represented: the Atom and RecAtom classes"
   ]
  },
  {
   "cell_type": "markdown",
   "metadata": {
    "deletable": true,
    "editable": true
   },
   "source": [
    "PyNeb distinguishes between atoms emitting collisionally-excited lines (called here \"collisional atoms\") and atoms emitting recombination lines (\"recombination atoms\"). Both are represented as n-level systems and share the same basic syntax, but they are encoded in different classes and their internal representation is different in either case, as detailed in the following sections."
   ]
  },
  {
   "cell_type": "markdown",
   "metadata": {
    "deletable": true,
    "editable": true
   },
   "source": [
    "## The Atom class"
   ]
  },
  {
   "cell_type": "markdown",
   "metadata": {
    "deletable": true,
    "editable": true
   },
   "source": [
    "The critical features of the physical atom relevant for our scope are encapsulated, for the collisional case, in the __Atom__ data structure. __Atom__ contains the way atomic data are read and managed to compute, for example, line emissivities and to determine diagnostics from line ratios, as well as ionic and total abundances."
   ]
  },
  {
   "cell_type": "markdown",
   "metadata": {
    "deletable": true,
    "editable": true
   },
   "source": [
    "Instantiation of the __Atom__ class to create an __Atom__ object is done by specifying an ion:"
   ]
  },
  {
   "cell_type": "code",
   "execution_count": 26,
   "metadata": {
    "deletable": true,
    "editable": true
   },
   "outputs": [],
   "source": [
    "import pyneb as pn\n",
    "O3 = pn.Atom('O', 3)"
   ]
  },
  {
   "cell_type": "markdown",
   "metadata": {
    "deletable": true,
    "editable": true
   },
   "source": [
    "This command tells the code to create an O++ ion model (corresponding to the [O III] spectrum, hence the \"3\") by reading the [O III] atomic data. "
   ]
  },
  {
   "cell_type": "markdown",
   "metadata": {
    "deletable": true,
    "editable": true
   },
   "source": [
    "You can create (instantiate) as many atoms as you need, or even create atoms for the same ion using different atomic \n",
    "data. Some basic info on an existing Atom object can be retrieved by the print command:"
   ]
  },
  {
   "cell_type": "code",
   "execution_count": 27,
   "metadata": {
    "collapsed": false,
    "deletable": true,
    "editable": true,
    "jupyter": {
     "outputs_hidden": false
    }
   },
   "outputs": [
    {
     "name": "stdout",
     "output_type": "stream",
     "text": [
      "Atom O3 from o_iii_atom_FFT04-SZ00.dat and o_iii_coll_SSB14.dat\n"
     ]
    }
   ],
   "source": [
    "print(O3)"
   ]
  },
  {
   "cell_type": "markdown",
   "metadata": {
    "deletable": true,
    "editable": true
   },
   "source": [
    "The two *.dat files mentioned contain the atomic data used to fill in the structure of this particular __Atom__ object. The organisation of these data files will be explained in the section on atomic data.\n",
    "\n",
    "The __Atom__ object contains methods (functions) to explore it; for example you can display the ion's intrinsic properties:"
   ]
  },
  {
   "cell_type": "code",
   "execution_count": 28,
   "metadata": {
    "collapsed": false,
    "deletable": true,
    "editable": true,
    "jupyter": {
     "outputs_hidden": false
    }
   },
   "outputs": [
    {
     "data": {
      "text/plain": [
       "'oxygen'"
      ]
     },
     "execution_count": 28,
     "metadata": {},
     "output_type": "execute_result"
    }
   ],
   "source": [
    "O3.name"
   ]
  },
  {
   "cell_type": "code",
   "execution_count": 29,
   "metadata": {
    "collapsed": false,
    "deletable": true,
    "editable": true,
    "jupyter": {
     "outputs_hidden": false
    }
   },
   "outputs": [
    {
     "data": {
      "text/plain": [
       "3"
      ]
     },
     "execution_count": 29,
     "metadata": {},
     "output_type": "execute_result"
    }
   ],
   "source": [
    "O3.spec"
   ]
  },
  {
   "cell_type": "code",
   "execution_count": 30,
   "metadata": {
    "collapsed": false,
    "deletable": true,
    "editable": true,
    "jupyter": {
     "outputs_hidden": false
    }
   },
   "outputs": [
    {
     "data": {
      "text/plain": [
       "'p2'"
      ]
     },
     "execution_count": 30,
     "metadata": {},
     "output_type": "execute_result"
    }
   ],
   "source": [
    "O3.gs"
   ]
  },
  {
   "cell_type": "code",
   "execution_count": 31,
   "metadata": {
    "collapsed": false,
    "deletable": true,
    "editable": true,
    "jupyter": {
     "outputs_hidden": false
    }
   },
   "outputs": [
    {
     "data": {
      "text/plain": [
       "8"
      ]
     },
     "execution_count": 31,
     "metadata": {},
     "output_type": "execute_result"
    }
   ],
   "source": [
    "O3.Z"
   ]
  },
  {
   "cell_type": "code",
   "execution_count": 32,
   "metadata": {
    "collapsed": false,
    "deletable": true,
    "editable": true,
    "jupyter": {
     "outputs_hidden": false
    }
   },
   "outputs": [
    {
     "name": "stdout",
     "output_type": "stream",
     "text": [
      "35.12111 eV - 54.93554 eV\n"
     ]
    }
   ],
   "source": [
    "print('{} eV - {} eV'.format(O3.IP, O3.IP_up))"
   ]
  },
  {
   "cell_type": "code",
   "execution_count": 33,
   "metadata": {
    "collapsed": false,
    "deletable": true,
    "editable": true,
    "jupyter": {
     "outputs_hidden": false
    }
   },
   "outputs": [
    {
     "name": "stdout",
     "output_type": "stream",
     "text": [
      "Energy of the 4th level = 2.51 ev.\n"
     ]
    }
   ],
   "source": [
    "print('Energy of the 4th level = {:.2f} ev.'.format(O3.getEnergy(4, unit='eV')))"
   ]
  },
  {
   "cell_type": "markdown",
   "metadata": {
    "deletable": true,
    "editable": true
   },
   "source": [
    "The complete inventory of features and methods of the __Atom__ class can be displayed by entering:"
   ]
  },
  {
   "cell_type": "code",
   "execution_count": 34,
   "metadata": {
    "collapsed": false,
    "deletable": true,
    "editable": true,
    "jupyter": {
     "outputs_hidden": false
    }
   },
   "outputs": [
    {
     "name": "stdout",
     "output_type": "stream",
     "text": [
      "['ANN_init_kwargs', 'ANN_inst_kwargs', 'ANN_n_temden', 'AtomData', 'AtomHeader', 'CollData', 'EnergyNLevels', 'IP', 'IP_up', 'NIST', 'NLevels', 'Z', '_A', '_Energy', '_StatWeight', '_Transition', '__class__', '__delattr__', '__dict__', '__dir__', '__doc__', '__eq__', '__format__', '__ge__', '__getattribute__', '__gt__', '__hash__', '__init__', '__init_subclass__', '__le__', '__lt__', '__module__', '__ne__', '__new__', '__reduce__', '__reduce_ex__', '__repr__', '__setattr__', '__sizeof__', '__str__', '__subclasshook__', '__weakref__', '_getTemDen_1', '_getTemDen_MP', '_test_lev', 'atom', 'atomFile', 'atomFileType', 'atomFitsFile', 'atomFitsPath', 'atomNLevels', 'atomPath', 'calling', 'collFile', 'collFileType', 'collFitsFile', 'collFitsPath', 'collNLevels', 'collPath', 'elem', 'energy_Ryd', 'energy_eV', 'getA', 'getCollRates', 'getCritDensity', 'getDensityRange', 'getEmissivity', 'getEnergy', 'getHighDensRatio', 'getIonAbundance', 'getLowDensRatio', 'getOmega', 'getOmegaArray', 'getPopulations', 'getSources', 'getStatWeight', 'getTemArray', 'getTemDen', 'getTransition', 'gs', 'is_valid', 'lineList', 'log_', 'name', 'plotEmiss', 'plotGrotrian', 'printIonic', 'printSources', 'printTemDen', 'printTransition', 'source', 'spec', 'tem_units', 'type', 'wave_Ang']\n"
     ]
    }
   ],
   "source": [
    "print(dir(O3))"
   ]
  },
  {
   "cell_type": "markdown",
   "metadata": {
    "deletable": true,
    "editable": true
   },
   "source": [
    "The various methods, which can be either public or private, are described in the PyNeb Reference Manual. Private methods have names starting with underscore “_” and are not supposed to be used by “standard” users.\n",
    "\n",
    "As always, use the “?” from within an ipython session, or the __help__ method in any python session, or consult the User Reference Manual, to gain access to the different options of the methods:"
   ]
  },
  {
   "cell_type": "code",
   "execution_count": 35,
   "metadata": {
    "collapsed": false,
    "deletable": true,
    "editable": true,
    "jupyter": {
     "outputs_hidden": false
    }
   },
   "outputs": [
    {
     "name": "stdout",
     "output_type": "stream",
     "text": [
      "Help on method getEnergy in module pyneb.core.pynebcore:\n",
      "\n",
      "getEnergy(level=-1, unit='1/Ang') method of pyneb.core.pynebcore._AtomDataAscii instance\n",
      "    Return energy level of selected level (or array of energy levels, if level not given) \n",
      "        in Angstrom^-1 (default) or another unit\n",
      "    \n",
      "    Usage:\n",
      "        O3.getEnergy(4, unit='eV')\n",
      "    Parameters:\n",
      "        - level  selected atomic level (default= -1, returns complete array)\n",
      "        - unit   [str] one of '1/Ang' (default), 'eV', or 'Ryd'\n",
      "\n"
     ]
    }
   ],
   "source": [
    "help(O3.getEnergy)"
   ]
  },
  {
   "cell_type": "markdown",
   "metadata": {
    "deletable": true,
    "editable": true
   },
   "source": [
    "## Print and plot atomic properties"
   ]
  },
  {
   "cell_type": "markdown",
   "metadata": {
    "deletable": true,
    "editable": true
   },
   "source": [
    "The __printIonic__ method displays informations on the atom's transitions:"
   ]
  },
  {
   "cell_type": "code",
   "execution_count": 36,
   "metadata": {
    "collapsed": false,
    "deletable": true,
    "editable": true,
    "jupyter": {
     "outputs_hidden": false
    }
   },
   "outputs": [
    {
     "name": "stdout",
     "output_type": "stream",
     "text": [
      "elem = O\n",
      "spec = 3\n",
      "\n",
      "warng Atom O3: Cannot print populations as tem or den is missing\n",
      "warng Atom O3: Cannot print critical densities as tem is missing\n",
      "     88.33m \n",
      "    (2-->1) \n",
      "\n",
      "\n",
      "     32.65m      51.80m \n",
      "    (3-->1)     (3-->2) \n",
      "\n",
      "\n",
      "   4931.23A    4958.91A    5006.84A \n",
      "    (4-->1)     (4-->2)     (4-->3) \n",
      "\n",
      "\n",
      "   2314.87A    2320.95A    2331.40A    4363.21A \n",
      "    (5-->1)     (5-->2)     (5-->3)     (5-->4) \n",
      "\n",
      "\n"
     ]
    }
   ],
   "source": [
    "O3.printIonic()"
   ]
  },
  {
   "cell_type": "markdown",
   "metadata": {
    "deletable": true,
    "editable": true
   },
   "source": [
    "Some arguments can be passed to the method to obtain more information:"
   ]
  },
  {
   "cell_type": "code",
   "execution_count": 37,
   "metadata": {
    "collapsed": false,
    "deletable": true,
    "editable": true,
    "jupyter": {
     "outputs_hidden": false
    }
   },
   "outputs": [
    {
     "name": "stdout",
     "output_type": "stream",
     "text": [
      "elem = O\n",
      "spec = 3\n",
      "temperature = 10000.0 K\n",
      "density = 1000.0 cm-3\n",
      "\n",
      "Level   Populations  Critical densities\n",
      "Level 1:  3.106E-01  0.000E+00\n",
      "Level 2:  4.899E-01  5.009E+02\n",
      "Level 3:  1.994E-01  3.530E+03\n",
      "Level 4:  4.374E-05  6.912E+05\n",
      "Level 5:  3.029E-09  2.423E+07\n",
      "\n",
      "2.596E-05   \n",
      "     88.33m \n",
      "    (2-->1) \n",
      "  2.860E-22 \n",
      "\n",
      "3.030E-11   9.632E-05   \n",
      "     32.65m      51.80m \n",
      "    (3-->1)     (3-->2) \n",
      "  3.675E-28   7.364E-22 \n",
      "\n",
      "2.322E-06   6.791E-03   2.046E-02   \n",
      "   4931.23A    4958.91A    5006.84A \n",
      "    (4-->1)     (4-->2)     (4-->3) \n",
      "  4.090E-25   1.189E-21   3.549E-21 \n",
      "\n",
      "0.000E+00   2.255E-01   6.998E-04   1.685E+00   \n",
      "   2314.87A    2320.95A    2331.40A    4363.21A \n",
      "    (5-->1)     (5-->2)     (5-->3)     (5-->4) \n",
      "  0.000E+00   5.844E-24   1.805E-26   2.323E-23 \n",
      "\n",
      "# H-beta volume emissivity:\n",
      "1.237E-25 N(H+) * N(e-)  (erg/s)\n"
     ]
    }
   ],
   "source": [
    "O3.printIonic(tem=10000., den=1e3, printA=True, printPop=True, printCrit=True)"
   ]
  },
  {
   "cell_type": "markdown",
   "metadata": {
    "deletable": true,
    "editable": true
   },
   "source": [
    "Each block describes a transition: the transition probability (in s-1; first row), the wavelength of the corresponding emission line (in Angstrom or microns; second row), the two atomic levels (third row), and the emissivity of the line (fourth row).\n",
    "\n",
    "You can plot the line emissivities using the following command:"
   ]
  },
  {
   "cell_type": "code",
   "execution_count": 38,
   "metadata": {
    "collapsed": false,
    "deletable": true,
    "editable": true,
    "jupyter": {
     "outputs_hidden": false
    }
   },
   "outputs": [
    {
     "data": {
      "image/png": "[encoded data removed]",
      "text/plain": [
       "<Figure size 576x432 with 1 Axes>"
      ]
     },
     "metadata": {
      "needs_background": "light"
     },
     "output_type": "display_data"
    }
   ],
   "source": [
    "f, ax = plt.subplots(figsize=(8, 6))\n",
    "O3.plotEmiss(tem_min=1000, tem_max=20000, ionic_abund=1.0, den=1e3, style='-', \n",
    "             legend_loc=4, temLog=False, plot_total=False, plot_only_total=False, \n",
    "             legend=True, total_color='black', total_label='TOTAL', ax=ax)"
   ]
  },
  {
   "cell_type": "markdown",
   "metadata": {
    "deletable": true,
    "editable": true
   },
   "source": [
    "You can use then take advantage of matplotlib's plotting tools to zoom, crop, or move the figure as you need."
   ]
  },
  {
   "cell_type": "markdown",
   "metadata": {
    "deletable": true,
    "editable": true
   },
   "source": [
    "A Grotrian diagram of the ion (i.e., a plot of the energy levels and transition wavelengths) can be obtained using:"
   ]
  },
  {
   "cell_type": "code",
   "execution_count": 39,
   "metadata": {
    "collapsed": false,
    "deletable": true,
    "editable": true,
    "jupyter": {
     "outputs_hidden": false
    }
   },
   "outputs": [
    {
     "data": {
      "image/png": "[encoded data removed]",
      "text/plain": [
       "<Figure size 576x432 with 1 Axes>"
      ]
     },
     "metadata": {
      "needs_background": "light"
     },
     "output_type": "display_data"
    }
   ],
   "source": [
    "f, ax = plt.subplots(figsize=(8, 6))\n",
    "O3.plotGrotrian(tem=1e4, den=1e2, thresh_int=1e-3, unit = 'eV', ax=ax)"
   ]
  },
  {
   "cell_type": "markdown",
   "metadata": {
    "deletable": true,
    "editable": true
   },
   "source": [
    "The diagram can be tailored in various ways, zoomed in or saved into a file.\n",
    "Atomic data are accessible using the following commands:"
   ]
  },
  {
   "cell_type": "code",
   "execution_count": 40,
   "metadata": {
    "collapsed": false,
    "deletable": true,
    "editable": true,
    "jupyter": {
     "outputs_hidden": false
    }
   },
   "outputs": [
    {
     "data": {
      "text/plain": [
       "array([[0.0000000e+00, 0.0000000e+00, 0.0000000e+00, 0.0000000e+00,\n",
       "        0.0000000e+00, 0.0000000e+00],\n",
       "       [2.5960000e-05, 0.0000000e+00, 0.0000000e+00, 0.0000000e+00,\n",
       "        0.0000000e+00, 0.0000000e+00],\n",
       "       [3.0300000e-11, 9.6320000e-05, 0.0000000e+00, 0.0000000e+00,\n",
       "        0.0000000e+00, 0.0000000e+00],\n",
       "       [2.3220000e-06, 6.7909998e-03, 2.0460000e-02, 0.0000000e+00,\n",
       "        0.0000000e+00, 0.0000000e+00],\n",
       "       [0.0000000e+00, 2.2550000e-01, 6.9980000e-04, 1.6850000e+00,\n",
       "        0.0000000e+00, 0.0000000e+00],\n",
       "       [2.1910000e-03, 2.3080000e+02, 5.7650000e+02, 5.7770000e-03,\n",
       "        3.7600000e-11, 0.0000000e+00]])"
      ]
     },
     "execution_count": 40,
     "metadata": {},
     "output_type": "execute_result"
    }
   ],
   "source": [
    "O3.getA()"
   ]
  },
  {
   "cell_type": "code",
   "execution_count": 41,
   "metadata": {
    "collapsed": false,
    "deletable": true,
    "editable": true,
    "jupyter": {
     "outputs_hidden": false
    }
   },
   "outputs": [
    {
     "data": {
      "text/plain": [
       "(5, 5, 25)"
      ]
     },
     "execution_count": 41,
     "metadata": {},
     "output_type": "execute_result"
    }
   ],
   "source": [
    "O3.getOmegaArray().shape # 5*5 levels, 25 temperatures"
   ]
  },
  {
   "cell_type": "code",
   "execution_count": 42,
   "metadata": {
    "collapsed": false,
    "deletable": true,
    "editable": true,
    "jupyter": {
     "outputs_hidden": false
    }
   },
   "outputs": [
    {
     "data": {
      "text/plain": [
       "array([[0.     , 0.     , 0.     , 0.     , 0.     ],\n",
       "       [0.5421 , 0.     , 0.     , 0.     , 0.     ],\n",
       "       [0.25678, 1.25256, 0.     , 0.     , 0.     ],\n",
       "       [0.24917, 0.75062, 1.26198, 0.     , 0.     ],\n",
       "       [0.03268, 0.09849, 0.1657 , 0.6174 , 0.     ]])"
      ]
     },
     "execution_count": 42,
     "metadata": {},
     "output_type": "execute_result"
    }
   ],
   "source": [
    "O3.getOmega(tem=1e4)"
   ]
  },
  {
   "cell_type": "code",
   "execution_count": 43,
   "metadata": {
    "collapsed": false,
    "deletable": true,
    "editable": true,
    "jupyter": {
     "outputs_hidden": false
    }
   },
   "outputs": [
    {
     "name": "stdout",
     "output_type": "stream",
     "text": [
      "Help on method getOmega in module pyneb.core.pynebcore:\n",
      "\n",
      "getOmega(tem, lev_i=-1, lev_j=-1, wave=-1) method of pyneb.core.pynebcore.Atom instance\n",
      "    Return interpolated value of the collision strength value at the given temperature \n",
      "        for the complete array or a specified transition.\n",
      "    If kappa is not None (non-maxwellian distribution of e-velocities), the collision \n",
      "        strength is corrected as in Mendoza & Bautista, 2014 ApJ 785, 91.\n",
      "    \n",
      "    Usage:\n",
      "        O3.getOmega(15000.)\n",
      "        O3.getOmega([8e3, 1e4, 1.2e4])\n",
      "        O3.getOmega([8e3, 1e4, 1.2e4], 5, 4)\n",
      "    \n",
      "    Parameters:\n",
      "        - tem    electronic temperature in K. May be an array.\n",
      "        - lev_i  upper level\n",
      "        - lev_j  lower level\n",
      "\n"
     ]
    }
   ],
   "source": [
    "help(O3.getOmega)"
   ]
  }
 ],
 "metadata": {
  "kernelspec": {
   "display_name": "Python 3 (ipykernel)",
   "language": "python",
   "name": "python3"
  },
  "language_info": {
   "codemirror_mode": {
    "name": "ipython",
    "version": 3
   },
   "file_extension": ".py",
   "mimetype": "text/x-python",
   "name": "python",
   "nbconvert_exporter": "python",
   "pygments_lexer": "ipython3",
   "version": "3.9.12"
  }
 },
 "nbformat": 4,
 "nbformat_minor": 4
}
