{
 "cells": [
  {
   "cell_type": "markdown",
   "metadata": {
    "deletable": true,
    "editable": true
   },
   "source": [
    "# The extinction class: RedCorr()"
   ]
  },
  {
   "cell_type": "code",
   "execution_count": 1,
   "metadata": {
    "deletable": true,
    "editable": true
   },
   "outputs": [],
   "source": [
    "%matplotlib inline\n",
    "import numpy as np\n",
    "import matplotlib.pyplot as plt\n",
    "import pyneb as pn"
   ]
  },
  {
   "cell_type": "markdown",
   "metadata": {
    "deletable": true,
    "editable": true
   },
   "source": [
    "The class RedCorr manages the extinction (reddening) correction. It can compute the logarithmic extinction at H$\\beta$ by comparing an observed ratio to a theoretical one (usually H$\\alpha$/H$\\beta$, but any other ratio can be used). The object is also able to compute the correction to be applied to any intensity, given the wavelength of the line.\n",
    "\n",
    "Various extinction laws are included in the class, and any user-defined function can also be implemented. The available extinction laws can be listed by entering (here no need to instantiate an object):"
   ]
  },
  {
   "cell_type": "markdown",
   "metadata": {
    "deletable": true,
    "editable": true
   },
   "source": [
    "To explore some properties, you can directly use the class methods:"
   ]
  },
  {
   "cell_type": "code",
   "execution_count": 2,
   "metadata": {
    "collapsed": false,
    "deletable": true,
    "editable": true,
    "jupyter": {
     "outputs_hidden": false
    }
   },
   "outputs": [
    {
     "name": "stdout",
     "output_type": "stream",
     "text": [
      "'No correction': \n",
      "        No correction, return 0.0\n",
      "        \n",
      "        \n",
      "'CCM89': \n",
      "        Cardelli, Clayton & Mathis 1989, ApJ 345, 245\n",
      "        http://adsabs.harvard.edu/abs/1989ApJ...345..245C\n",
      "\n",
      "        Comments: Depends on R_V, default value being 3.1\n",
      "\n",
      "        Scope: Applicable to both dense and diffuse ISM\n",
      "        Range: UV through IR\n",
      "        \n",
      "        \n",
      "'CCM89 Bal07': \n",
      "        Galactic extinction law based on Cardelli et al 1989, modified by Blagrave et al 2007 \n",
      "        for 3.3 < x < 8 (1250 < lambda < 3030)\n",
      "        \n",
      "        Blagrave et al 2007, ApJ, 655, 299 \n",
      "        http://adsabs.harvard.edu/abs/2007ApJ...655..299B\n",
      "        Cardelli, Clayton & Mathis 1989, ApJ 345, 245\n",
      "        http://adsabs.harvard.edu/abs/1989ApJ...345..245C\n",
      "\n",
      "        Comments:\n",
      "        Same as CCM89 for x<3.3 and x>8\n",
      "        Revised values for 3.3<x<8\n",
      "        Based on observation of Orion stars\n",
      "        Depends on R_V, default value being 3.1\n",
      "\n",
      "        Range: UV through IR\n",
      "        \n",
      "        \n",
      "'CCM89 oD94': \n",
      "        Galactic extinction law based on Cardelli et al 1989, modified by O'Donnell 1994\n",
      "        for 1.1 < x < 3.3 (9100 < lambda < 3030)\n",
      "        \n",
      "        O'Donnell 1994, ApJ, 422, 1580\n",
      "        http://adsabs.harvard.edu/abs/1994ApJ...422..158O\n",
      "        Cardelli, Clayton & Mathis 1989, ApJ 345, 245\n",
      "        http://adsabs.harvard.edu/abs/1989ApJ...345..245C\n",
      "\n",
      "        Comments:\n",
      "        Same as CCM89 for x<1.1 and x>3.3\n",
      "        Revised values for 1.1<x<3.3\n",
      "        Produces lower correction in the near UV at low R_V\n",
      "        \n",
      "        Scope: Galactic\n",
      "        Range: UV through IR\n",
      "        \n",
      "        \n",
      "'S79 H83 CCM89': \n",
      "        Galactic extinction law (0-33000 A range):\n",
      "        - In the UV, from Seaton 1979\n",
      "        - In the opt/NIR (3600-9100) Howarth 1983\n",
      "        - In the FIR (9100-33000) Cardelly et al 1989\n",
      "        \n",
      "        Seaton 1979, MNRAS, 187, 73) and \n",
      "        http://adsabs.harvard.edu/abs/1979MNRAS.187P..73S\n",
      "        Howarth 1983, MNRAS, 203, 301) Galactic law\n",
      "        http://adsabs.harvard.edu/abs/1983MNRAS.204.1091H\n",
      "        Cardelli, Clayton and Mathis 1989, ApJ, 345, 245\n",
      "        http://adsabs.harvard.edu/abs/1989ApJ...345..245C\n",
      "        \n",
      "        Scope: Galactic\n",
      "        Range: UV through IR\n",
      "        \n",
      "        \n",
      "'K76': \n",
      "        Kaler 1976, ApJS, 31, 517\n",
      "        http://adsabs.harvard.edu/abs/1976ApJS...31..517K\n",
      "        \n",
      "        Comments:\n",
      "        This function returns the correction relative to Hbeta (f_lambda) and not\n",
      "        the extinction law (X(1/lambda)).\n",
      "        It cannot be used for absolute correction.\n",
      "        \n",
      "        Range: 3000 to >20000\n",
      "        \n",
      "        \n",
      "'SM79 Gal': \n",
      "        Galactic extinction law\n",
      "        Savage & Mathis 1979, ARA&A, 17, 73\n",
      "        http://adsabs.harvard.edu/abs/1979ARA%26A..17...73S\n",
      "        \n",
      "        Comments:\n",
      "        Average of several extinction laws\n",
      "        R_V=3.1\n",
      "        \n",
      "        Scope: Galactic\n",
      "        Range: UV through IR\n",
      "        \n",
      "        \n",
      "'G03 LMC': \n",
      "        Extinction curve for the LMC\n",
      "        Gordon et al. (2003, ApJ, 594,279)\n",
      "        http://adsabs.harvard.edu/abs/2003ApJ...594..279G\n",
      "        \n",
      "        Comments:\n",
      "        Average curve for the LMC\n",
      "        R_V = 3.41\n",
      "\n",
      "        Scope: LMC\n",
      "        Range: 1200 through fIR   \n",
      "\n",
      "        \n",
      "'MCC99 FM90 LMC': \n",
      "        In the UV, this method returns the extinction curve proposed for the LMC \n",
      "        by Misselt et al 1999 based on the 1990 variant of the Fitzpatrick & Massa law\n",
      "        In the opt/IR, it returns the Fitzpatrick & Massa 1990 law.\n",
      "\n",
      "        Misselt, Clayton & Gordon 1999 , ApJ, 515, 128 \n",
      "        http://adsabs.harvard.edu/abs/1999ApJ...515..128M\n",
      "        Fitzpatrick & Massa 1990, ApJS, 72, 163\n",
      "        http://adsabs.harvard.edu/abs/1990ApJS...72..163F\n",
      "        \n",
      "        Comments:\n",
      "        The Fitzpatrick & Massa 1990 law in the UV depends on 6 parameters, stored in RedCorr.FitzParams.\n",
      "        The method sets RedCorr.FitzParams to the values of set in the Fitzpatrick 1999 paper, \n",
      "        which includes an explicit dependence on R_V.\n",
      "        R_V must be provided, as the law depends on its value.\n",
      "        We refer to FM90 and not to the original FM88 because the value of a constant in F(lambda) slightly changed (0.0564 -> 0.05644)\n",
      "        The value of another constant of F(lambda) appears to change from FM90 to MCC99, but it is probably a typo (0.5392 -> 0.5329) \n",
      "        \n",
      "        Scope: LMC\n",
      "\n",
      "        \n",
      "'F99-like': \n",
      "        In the UV, it returns the Fitzpatrick & Massa 1990 law.\n",
      "        In the opt/IR, it returns the Fitzpatrick & Massa 1990 law. \n",
      "        \n",
      "        Fitzpatrick 1999, PASP, 11, 63\n",
      "        http://adsabs.harvard.edu/abs/1999PASP..111...63F\n",
      "        Fitzpatrick & Massa 1990, ApJS, 72, 163\n",
      "        http://adsabs.harvard.edu/abs/1990ApJS...72..163F\n",
      "        \n",
      "        Comments:\n",
      "        The FM90 depends on 6 parameters which must be set by the user and are stored in RedCorr.FitzParams.\n",
      "        For the predefined set of parameters defined in FM99, use instead the F99 law.\n",
      "        R_V must be provided, as the law depends on it. The dependence with R_V follows Table 4 in the F99 paper \n",
      "\n",
      "        Range: UV through IR\n",
      "        \n",
      "        \n",
      "'F99': \n",
      "        This method returns the R-dependent IR-through-UV extinction curve proposed by Fitzpatrick 1999.\n",
      "\n",
      "        Fitzpatrick 1999, PASP, 11, 63\n",
      "        http://adsabs.harvard.edu/abs/1999PASP..111...63F\n",
      "        based on: \n",
      "        Fitzpatrick & Massa 1990, ApJS, 72, 163\n",
      "        http://adsabs.harvard.edu/abs/1990ApJS...72..163F\n",
      "        \n",
      "        Comments:\n",
      "        The Fitzpatrick & Massa 1990 law in the UV depends on 6 parameters, stored in RedCorr.FitzParams.\n",
      "        The method sets RedCorr.FitzParams to the values of set in the Fitzpatrick 1999 paper, \n",
      "        which includes an explicit dependence on R_V.\n",
      "        R_V must be provided, as the law depends on its value.\n",
      "        \n",
      "        Range: UV through IR\n",
      "\n",
      "        \n",
      "'F88 F99 LMC': \n",
      "        This method returns:\n",
      "        - in the UV, the average LMC extinction curve derived by Fitzpatrick & Massa 1988\n",
      "        - in the opt/IR, the R-dependent extinction curve proposed by Fitzpatrick 1999.\n",
      "        \n",
      "        Fitzpatrick 1999, PASP, 11, 63\n",
      "        http://adsabs.harvard.edu/abs/1999PASP..111...63F\n",
      "        Fitzpatrick & Massa 1988, ApJ, 328, 734\n",
      "        http://adsabs.harvard.edu/abs/1988ApJ...328..734F\n",
      "        \n",
      "        Comments:\n",
      "        The Fitzpatrick and Massa law in the UV depends on 6 parameters, stored in RedCorr.FitzParams and \n",
      "        here set to the LMC values derived in FM88\n",
      "        R_V must be provided, as the law depends on it\n",
      "        \n",
      "        Scope: LMC\n",
      "        Range: UV through IR\n",
      "\n",
      "        \n"
     ]
    }
   ],
   "source": [
    "pn.RedCorr().printLaws()"
   ]
  },
  {
   "cell_type": "markdown",
   "metadata": {
    "deletable": true,
    "editable": true
   },
   "source": [
    "Less detailed output is obtained with:"
   ]
  },
  {
   "cell_type": "code",
   "execution_count": 3,
   "metadata": {
    "collapsed": false,
    "deletable": true,
    "editable": true,
    "jupyter": {
     "outputs_hidden": false
    }
   },
   "outputs": [
    {
     "data": {
      "text/plain": [
       "dict_keys(['No correction', 'CCM89', 'CCM89 Bal07', 'CCM89 oD94', 'S79 H83 CCM89', 'K76', 'SM79 Gal', 'G03 LMC', 'MCC99 FM90 LMC', 'F99-like', 'F99', 'F88 F99 LMC'])"
      ]
     },
     "execution_count": 3,
     "metadata": {},
     "output_type": "execute_result"
    }
   ],
   "source": [
    "pn.RedCorr().getLaws()"
   ]
  },
  {
   "cell_type": "markdown",
   "metadata": {
    "deletable": true,
    "editable": true
   },
   "source": [
    "To apply a correction, you need to instantiate the object:"
   ]
  },
  {
   "cell_type": "code",
   "execution_count": 4,
   "metadata": {
    "deletable": true,
    "editable": true
   },
   "outputs": [],
   "source": [
    "rc = pn.RedCorr(E_BV = 1.2, R_V = 3.2, law = 'F99')"
   ]
  },
  {
   "cell_type": "markdown",
   "metadata": {
    "deletable": true,
    "editable": true
   },
   "source": [
    "The parameters can also be defined and modified after the instantiation:"
   ]
  },
  {
   "cell_type": "code",
   "execution_count": 5,
   "metadata": {
    "deletable": true,
    "editable": true
   },
   "outputs": [],
   "source": [
    "rc = pn.RedCorr() \n",
    "rc.E_BV = 1.34\n",
    "rc.law = 'S79 H83 CCM89'"
   ]
  },
  {
   "cell_type": "markdown",
   "metadata": {
    "deletable": true,
    "editable": true
   },
   "source": [
    "$c(H\\beta)$ and $E_{B-V}$ are related through:\n",
    "    \n",
    "$$(1-f_\\lambda).c(H\\beta) = 0.4 E_{B-V} X_\\lambda$$ applied to $\\lambda$ = 4861, with $f_\\beta$ = 0.\n",
    "so that, once one of the two parameters is defined, the other is also automatically defined; to output its value, enter:"
   ]
  },
  {
   "cell_type": "code",
   "execution_count": 6,
   "metadata": {
    "collapsed": false,
    "deletable": true,
    "editable": true,
    "jupyter": {
     "outputs_hidden": false
    }
   },
   "outputs": [
    {
     "data": {
      "text/plain": [
       "1.9457101047071228"
      ]
     },
     "execution_count": 6,
     "metadata": {},
     "output_type": "execute_result"
    }
   ],
   "source": [
    "rc.cHbeta"
   ]
  },
  {
   "cell_type": "code",
   "execution_count": 7,
   "metadata": {
    "collapsed": false,
    "deletable": true,
    "editable": true,
    "jupyter": {
     "outputs_hidden": false
    }
   },
   "outputs": [
    {
     "name": "stdout",
     "output_type": "stream",
     "text": [
      "1.3773891565431358\n"
     ]
    }
   ],
   "source": [
    "rc.cHbeta = 2.\n",
    "print(rc.E_BV)"
   ]
  },
  {
   "cell_type": "markdown",
   "metadata": {
    "deletable": true,
    "editable": true
   },
   "source": [
    "The reddening of a given spectrum is determined by using the ratio of two observed line intensities relative to the theoretical value, for example:"
   ]
  },
  {
   "cell_type": "code",
   "execution_count": 8,
   "metadata": {
    "deletable": true,
    "editable": true
   },
   "outputs": [],
   "source": [
    "rc.setCorr(obs_over_theo=6.5 / 2.86, wave1=6563., wave2=4861.)"
   ]
  },
  {
   "cell_type": "code",
   "execution_count": 9,
   "metadata": {
    "collapsed": false,
    "deletable": true,
    "editable": true,
    "jupyter": {
     "outputs_hidden": false
    }
   },
   "outputs": [
    {
     "name": "stdout",
     "output_type": "stream",
     "text": [
      "1.1134093776707101\n"
     ]
    }
   ],
   "source": [
    "print(rc.cHbeta)"
   ]
  },
  {
   "cell_type": "markdown",
   "metadata": {
    "deletable": true,
    "editable": true
   },
   "source": [
    "Once a law and either c(H$\\beta$) or E$_{B-V}$ are defined, the correction for any wavelength is obtained by:"
   ]
  },
  {
   "cell_type": "code",
   "execution_count": 10,
   "metadata": {
    "collapsed": false,
    "deletable": true,
    "editable": true,
    "jupyter": {
     "outputs_hidden": false
    }
   },
   "outputs": [
    {
     "name": "stdout",
     "output_type": "stream",
     "text": [
      "11.846898279423378\n"
     ]
    }
   ],
   "source": [
    "wave = 5007.0\n",
    "corr = rc.getCorr(wave)\n",
    "print(corr)"
   ]
  },
  {
   "cell_type": "markdown",
   "metadata": {
    "deletable": true,
    "editable": true
   },
   "source": [
    "where __wave__ can either be a single wavelength or a list or array of wavelengths.\n",
    "\n",
    "The correction relative to the H$\\beta$ correction is given by:"
   ]
  },
  {
   "cell_type": "code",
   "execution_count": 11,
   "metadata": {
    "collapsed": false,
    "deletable": true,
    "editable": true,
    "jupyter": {
     "outputs_hidden": false
    }
   },
   "outputs": [
    {
     "name": "stdout",
     "output_type": "stream",
     "text": [
      "0.9124210200172395\n"
     ]
    }
   ],
   "source": [
    "corr = rc.getCorrHb(wave)\n",
    "print(corr)"
   ]
  },
  {
   "cell_type": "markdown",
   "metadata": {
    "deletable": true,
    "editable": true
   },
   "source": [
    "and the correction relative to any other wavelength (p. ej., H$\\alpha$) is given by:"
   ]
  },
  {
   "cell_type": "code",
   "execution_count": 12,
   "metadata": {
    "collapsed": false,
    "deletable": true,
    "editable": true,
    "jupyter": {
     "outputs_hidden": false
    }
   },
   "outputs": [
    {
     "name": "stdout",
     "output_type": "stream",
     "text": [
      "2.07325069462699\n"
     ]
    }
   ],
   "source": [
    "corr = rc.getCorr(5007., 6563.)\n",
    "print(corr)"
   ]
  },
  {
   "cell_type": "markdown",
   "metadata": {
    "deletable": true,
    "editable": true
   },
   "source": [
    "The class includes a plotting tool to have a quick look at the different extinction laws:"
   ]
  },
  {
   "cell_type": "code",
   "execution_count": 13,
   "metadata": {
    "collapsed": false,
    "deletable": true,
    "editable": true,
    "jupyter": {
     "outputs_hidden": false
    }
   },
   "outputs": [
    {
     "data": {
      "image/png": "[encoded data removed]",
      "text/plain": [
       "<Figure size 576x576 with 1 Axes>"
      ]
     },
     "metadata": {
      "needs_background": "light"
     },
     "output_type": "display_data"
    }
   ],
   "source": [
    "f, ax = plt.subplots(figsize=(8,8))\n",
    "rc.plot(laws = 'all', ax=ax)"
   ]
  },
  {
   "cell_type": "markdown",
   "metadata": {
    "deletable": true,
    "editable": true
   },
   "source": [
    "A user-defined method can also be used. User-defined methods must accept 2 parameters: the first is the wavelength (or wavelength array), in Angstrom, and the second is an optional parameter (which can also be a list). The method must return $X(\\lambda) = A(\\lambda)/E_{B-V} = R_V A(\\lambda)/A_V$. The correction is then: $10^{0.4 E_{B-V} X(\\lambda)}$\n",
    "\n",
    "Here is an example of a user-defined function:"
   ]
  },
  {
   "cell_type": "code",
   "execution_count": 14,
   "metadata": {
    "collapsed": false,
    "deletable": true,
    "editable": true,
    "jupyter": {
     "outputs_hidden": false
    }
   },
   "outputs": [
    {
     "name": "stdout",
     "output_type": "stream",
     "text": [
      "342.0931612017285\n"
     ]
    }
   ],
   "source": [
    "def my_X(wave, params = [5000., 1., 2., 3.]):\n",
    "    return params[1] * (wave/params[0]) + params[2] * (wave/params[0])**-1 + params[3] * (wave/params[0])**-2\n",
    "rc.UserFunction = my_X\n",
    "rc.UserParams = [6000., 1., 5., 1.]\n",
    "rc.law = 'user'\n",
    "print(rc.getCorr(5007))"
   ]
  }
 ],
 "metadata": {
  "kernelspec": {
   "display_name": "Python 3",
   "language": "python",
   "name": "python3"
  },
  "language_info": {
   "codemirror_mode": {
    "name": "ipython",
    "version": 3
   },
   "file_extension": ".py",
   "mimetype": "text/x-python",
   "name": "python",
   "nbconvert_exporter": "python",
   "pygments_lexer": "ipython3",
   "version": "3.7.6"
  }
 },
 "nbformat": 4,
 "nbformat_minor": 4
}
