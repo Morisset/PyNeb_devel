{
 "cells": [
  {
   "cell_type": "code",
   "execution_count": 1,
   "metadata": {},
   "outputs": [],
   "source": [
    "import numpy as np\n",
    "import matplotlib.pyplot as plt\n",
    "import pyneb as pn"
   ]
  },
  {
   "cell_type": "markdown",
   "metadata": {},
   "source": [
    "## The EmissionLine class"
   ]
  },
  {
   "cell_type": "markdown",
   "metadata": {},
   "source": [
    "This is the class characterizing emission lines. An emission line is identified by an element and a spectrum (which identify the emitting ion), a wavelength in Angstrom, a blend flag, a label in the standard PyNeb format, an observed intensity, a reddening-corrected intensity, an expression describing how the intensity depends on the included wavelengths, an observational error and an error on the corrected intensity. Other programs determine one or more of these values."
   ]
  },
  {
   "cell_type": "markdown",
   "metadata": {},
   "source": [
    "To instantiate an Emission Line object, use the following:"
   ]
  },
  {
   "cell_type": "code",
   "execution_count": 2,
   "metadata": {},
   "outputs": [],
   "source": [
    "line = pn.EmissionLine('O', 3, 5007, obsIntens=[1.4, 1.3])\n",
    "line2 = pn.EmissionLine(label = 'O3_5007A', obsIntens=320, corrected=True)"
   ]
  },
  {
   "cell_type": "markdown",
   "metadata": {},
   "source": [
    "obsIntens is a value, a list or a numpy array of values corresponding to the observed intensity of the given emission line."
   ]
  },
  {
   "cell_type": "code",
   "execution_count": 3,
   "metadata": {
    "collapsed": false,
    "jupyter": {
     "outputs_hidden": false
    }
   },
   "outputs": [
    {
     "name": "stdout",
     "output_type": "stream",
     "text": [
      "Line O3 O3_5007A\n"
     ]
    }
   ],
   "source": [
    "print(line)"
   ]
  },
  {
   "cell_type": "markdown",
   "metadata": {},
   "source": [
    "To know how the label of a given line is exactly spelled, you can print the dictionary pn.LINE_LABEL_LIST"
   ]
  },
  {
   "cell_type": "code",
   "execution_count": 4,
   "metadata": {
    "collapsed": false,
    "jupyter": {
     "outputs_hidden": false
    }
   },
   "outputs": [
    {
     "name": "stdout",
     "output_type": "stream",
     "text": [
      "['4931A', '4959A', '5007A', '2315A', '2321A', '2331A', '4363A', '1658A', '1661A', '1666A', '2497A', '5833A', '88.3m', '32.6m', '51.8m']\n"
     ]
    }
   ],
   "source": [
    "print(pn.LINE_LABEL_LIST['O3'])"
   ]
  },
  {
   "cell_type": "markdown",
   "metadata": {},
   "source": [
    "It is possible to instantiate a line not contained in the pn.LINE_LABEL_LIST. In this case a warning is issued, but the code doesn't stop."
   ]
  },
  {
   "cell_type": "markdown",
   "metadata": {},
   "source": [
    "The observed intensity is stored in __line.obsIntens__ and the extinction-corrected intensity is stored in __line.corrIntens__. __line.corrIntens__ is set to 0.0 when the line is instantiated, unless the parameter corrected is set to __True__, in which case the observed value __obsIntens__ is copied to the __corrIntens__ slot (the same applies for __corrError__, which is set to __obsError__). "
   ]
  },
  {
   "cell_type": "markdown",
   "metadata": {},
   "source": [
    "The __corrIntens__ value can also be computed using an instantiation of the __pn.RedCorr__ class:"
   ]
  },
  {
   "cell_type": "code",
   "execution_count": 5,
   "metadata": {},
   "outputs": [],
   "source": [
    "redcorr = pn.RedCorr(E_BV = 0.87, law = 'F99')"
   ]
  },
  {
   "cell_type": "code",
   "execution_count": 6,
   "metadata": {},
   "outputs": [],
   "source": [
    "line.correctIntens(redcorr) #redcorr is used to compute line.corrIntens"
   ]
  },
  {
   "cell_type": "markdown",
   "metadata": {},
   "source": [
    "The line information is printed using:"
   ]
  },
  {
   "cell_type": "code",
   "execution_count": 7,
   "metadata": {
    "collapsed": false,
    "jupyter": {
     "outputs_hidden": false
    }
   },
   "outputs": [
    {
     "name": "stdout",
     "output_type": "stream",
     "text": [
      "Line O3 O3_5007A evaluated as L(5007)\n",
      "Observed intensity: [1.4 1.3]\n",
      "Observed error: [0. 0.]\n",
      "Corrected intensity: [22.58352855 20.97041937]\n",
      "Corrected error: [0. 0.]\n"
     ]
    }
   ],
   "source": [
    "line.printLine()"
   ]
  },
  {
   "cell_type": "markdown",
   "metadata": {},
   "source": [
    "Most of the times, users will not need to define or manipulate EmissionLine objects, since most of the work on the EmissionLine objects will be performed from the Observation class (read data, extinction correction); see next section."
   ]
  },
  {
   "cell_type": "markdown",
   "metadata": {},
   "source": [
    "WARNING: Note that the wavelengths assigned to EmissionLine objects are simply the numerical part of the label:"
   ]
  },
  {
   "cell_type": "code",
   "execution_count": 8,
   "metadata": {
    "collapsed": false,
    "jupyter": {
     "outputs_hidden": false
    }
   },
   "outputs": [
    {
     "name": "stdout",
     "output_type": "stream",
     "text": [
      "4861.0\n"
     ]
    }
   ],
   "source": [
    "Hb1 = pn.EmissionLine(label='H1r_4861A').wave\n",
    "print(Hb1)"
   ]
  },
  {
   "cell_type": "markdown",
   "metadata": {},
   "source": [
    "whereas pn.Atom computes them as the difference from energy levels:"
   ]
  },
  {
   "cell_type": "code",
   "execution_count": 9,
   "metadata": {
    "collapsed": false,
    "jupyter": {
     "outputs_hidden": false
    }
   },
   "outputs": [
    {
     "name": "stdout",
     "output_type": "stream",
     "text": [
      "4861.3316598713955\n"
     ]
    }
   ],
   "source": [
    "Hb2 = pn.RecAtom('H', 1).getWave(4, 2)\n",
    "print(Hb2)"
   ]
  },
  {
   "cell_type": "markdown",
   "metadata": {},
   "source": [
    "This can cause small errors when both methods are used simultaneously. For instance, the extinction correction at Hb1 is slightly different from the expected value of 1: "
   ]
  },
  {
   "cell_type": "code",
   "execution_count": 10,
   "metadata": {
    "collapsed": false,
    "jupyter": {
     "outputs_hidden": false
    }
   },
   "outputs": [
    {
     "data": {
      "text/plain": [
       "1.000410798530041"
      ]
     },
     "execution_count": 10,
     "metadata": {},
     "output_type": "execute_result"
    }
   ],
   "source": [
    "rc = pn.RedCorr() \n",
    "rc.E_BV = 1.34\n",
    "rc.law = 'F99'\n",
    "rc.getCorrHb(Hb1)"
   ]
  },
  {
   "cell_type": "markdown",
   "metadata": {},
   "source": [
    "This happens because the ExtCorr uses the precise H$\\beta$ value computed from energy levels. If this roundoff error exceeds your tolerance, a possible workaround is forcing the emission line to have exactly the wavelength computed from the energy levels:"
   ]
  },
  {
   "cell_type": "code",
   "execution_count": 11,
   "metadata": {
    "collapsed": false,
    "jupyter": {
     "outputs_hidden": false
    }
   },
   "outputs": [
    {
     "name": "stdout",
     "output_type": "stream",
     "text": [
      "0.8362020498282933\n"
     ]
    }
   ],
   "source": [
    "O3w = pn.EmissionLine('O', 3, wave=5007).wave\n",
    "print(rc.getCorrHb(O3w))"
   ]
  },
  {
   "cell_type": "code",
   "execution_count": 12,
   "metadata": {
    "collapsed": false,
    "jupyter": {
     "outputs_hidden": false
    }
   },
   "outputs": [
    {
     "name": "stdout",
     "output_type": "stream",
     "text": [
      "warng EmissionLine: Atom H1 not valid\n",
      "1.0\n"
     ]
    }
   ],
   "source": [
    "Hb11 = pn.EmissionLine('H', 1, wave=Hb2).wave\n",
    "print(rc.getCorrHb(Hb11)) \n",
    "# This will generate a warning (as the transition is not included in the inventory for the specified atom), \n",
    "# but the code won't stop."
   ]
  },
  {
   "cell_type": "markdown",
   "metadata": {},
   "source": [
    "## The Observation class: reading and dealing with observations"
   ]
  },
  {
   "cell_type": "markdown",
   "metadata": {},
   "source": [
    "### Reading observation from a file"
   ]
  },
  {
   "cell_type": "markdown",
   "metadata": {},
   "source": [
    "pn.Observation is the class characterizing observation records. An observation record is composed of an object identifier, the observed intensity of one or more emission lines, and, optionally, the dereddened line intensities and the identifier of the extinction law used, and the value of c(Hbeta).\n",
    "\n",
    "Observations can be initialized by reading data files, which can be organized with different emission lines either in rows or columns (usually, in a survey of many objects with few emission lines emission lines change across columns; and in a high-resolution observation of a small sample of objects lines change across rows).\n",
    "\n",
    "The following is an example of how to define an observation:"
   ]
  },
  {
   "cell_type": "code",
   "execution_count": 13,
   "metadata": {},
   "outputs": [],
   "source": [
    "obs = pn.Observation()"
   ]
  },
  {
   "cell_type": "code",
   "execution_count": 14,
   "metadata": {
    "collapsed": false,
    "jupyter": {
     "outputs_hidden": false
    }
   },
   "outputs": [
    {
     "name": "stdout",
     "output_type": "stream",
     "text": [
      "Overwriting observations1.dat\n"
     ]
    }
   ],
   "source": [
    "%%writefile observations1.dat\n",
    "LINE SMC_24\n",
    "S4_10.5m   7.00000\n",
    "Ne2_12.8m  8.3000\n",
    "Ne3_15.6m 34.10\n",
    "S3_18.7m  10.\n",
    "O2_3726A  39.700\n",
    "O2_3729A  18.600\n",
    "Ne3_3869A 18.90\n",
    "Ne3_3968A  6.4\n",
    "S2_4069A   0.85\n",
    "S2_4076A   0.450\n",
    "O3_4363A   4.36\n",
    "H1r_4861A 100.00\n",
    "O3_5007A 435.09\n",
    "N2_5755A   0.510000\n",
    "S3_6312A   0.76\n",
    "O1_6300A   1.69\n",
    "O1_6364A   0.54\n",
    "N2_6548A   6.840000\n",
    "H1r_6563A  345.00\n",
    "N2_6584A  19.00\n",
    "S2_6716A   1.220000\n",
    "S2_6731A   2.180000\n",
    "Ar3_7136A  4.91\n",
    "O2_7319A+   6.540000\n",
    "O2_7330A+   5.17"
   ]
  },
  {
   "cell_type": "code",
   "execution_count": 15,
   "metadata": {
    "collapsed": false,
    "jupyter": {
     "outputs_hidden": false
    }
   },
   "outputs": [],
   "source": [
    "obs.readData('observations1.dat', fileFormat='lines_in_rows', err_default=0.05) # fill obs with data read from smc_24.dat"
   ]
  },
  {
   "cell_type": "code",
   "execution_count": 16,
   "metadata": {
    "collapsed": false,
    "jupyter": {
     "outputs_hidden": false
    }
   },
   "outputs": [
    {
     "name": "stdout",
     "output_type": "stream",
     "text": [
      "S4_10.5m      7.000\n",
      "Ne2_12.8m     8.300\n",
      "Ne3_15.6m    34.100\n",
      "S3_18.7m     10.000\n",
      "O2_3726A     39.700\n",
      "O2_3729A     18.600\n",
      "Ne3_3869A    18.900\n",
      "Ne3_3968A     6.400\n",
      "S2_4069A      0.850\n",
      "S2_4076A      0.450\n",
      "O3_4363A      4.360\n",
      "H1r_4861A   100.000\n",
      "O3_5007A    435.090\n",
      "N2_5755A      0.510\n",
      "S3_6312A      0.760\n",
      "O1_6300A      1.690\n",
      "O1_6364A      0.540\n",
      "N2_6548A      6.840\n",
      "H1r_6563A   345.000\n",
      "N2_6584A     19.000\n",
      "S2_6716A      1.220\n",
      "S2_6731A      2.180\n",
      "Ar3_7136A     4.910\n",
      "O2_7319A+     6.540\n",
      "O2_7330A+     5.170\n"
     ]
    }
   ],
   "source": [
    "obs.printIntens(returnObs=True)"
   ]
  },
  {
   "cell_type": "code",
   "execution_count": 17,
   "metadata": {},
   "outputs": [],
   "source": [
    "obs.extinction.law = 'CCM89'  # define the extinction law from Cardelli et al.\n",
    "obs.correctData()                      # the dereddened data are computed"
   ]
  },
  {
   "cell_type": "markdown",
   "metadata": {},
   "source": [
    "The data can be read by the readData method as above or directly while instantiating the object:"
   ]
  },
  {
   "cell_type": "code",
   "execution_count": 18,
   "metadata": {},
   "outputs": [],
   "source": [
    "obs = pn.Observation('observations1.dat', fileFormat='lines_in_rows', corrected=True)"
   ]
  },
  {
   "cell_type": "markdown",
   "metadata": {},
   "source": [
    "The format of the data file from which the emission line intensities are read can be one of three kinds: \"lines_in_rows\" as above, or \"lines_in_cols\" like this one:"
   ]
  },
  {
   "cell_type": "code",
   "execution_count": 19,
   "metadata": {
    "collapsed": false,
    "jupyter": {
     "outputs_hidden": false
    }
   },
   "outputs": [
    {
     "name": "stdout",
     "output_type": "stream",
     "text": [
      "Overwriting observations2.dat\n"
     ]
    }
   ],
   "source": [
    "%%writefile observations2.dat\n",
    "NAME O2_3726A  O2_3726Ae O2_3729A O2_3729Ae\n",
    "NGC3132 0.93000   0.05000   0.17224200 0.10  \n",
    "IC418 1.28000   0.05000   0.09920000 0.05 \n",
    "M33 0.03100   0.080     0.03100    0.10"
   ]
  },
  {
   "cell_type": "code",
   "execution_count": 20,
   "metadata": {},
   "outputs": [],
   "source": [
    "obs2 = pn.Observation('observations2.dat', fileFormat='lines_in_cols', corrected=True)"
   ]
  },
  {
   "cell_type": "markdown",
   "metadata": {},
   "source": [
    "or fileFormat='lines_in_rows_err_cols' (errors labeled “err”. Don’t name an observation “err”!) like this one:"
   ]
  },
  {
   "cell_type": "code",
   "execution_count": 21,
   "metadata": {
    "collapsed": false,
    "jupyter": {
     "outputs_hidden": false
    }
   },
   "outputs": [
    {
     "name": "stdout",
     "output_type": "stream",
     "text": [
      "Overwriting observations3.dat\n"
     ]
    }
   ],
   "source": [
    "%%writefile observations3.dat\n",
    "LINE     TT   err  TT2 err TT3 err\n",
    "cHbeta   1.2  0.0  1.5 0.2 1.1 0.2\n",
    "O3_5007A 1.5  0.15 1.3  .2 1.1 0.1\n",
    "H1_6563A 2.89 0.05 1.6 0.3 1.3 0.1\n",
    "N2_6584A 1.   0.20 0.3 0.5 1.5 0.1"
   ]
  },
  {
   "cell_type": "code",
   "execution_count": 22,
   "metadata": {
    "collapsed": false,
    "jupyter": {
     "outputs_hidden": false
    }
   },
   "outputs": [],
   "source": [
    "#obs3 = pn.Observation('observations3.dat', fileFormat='lines_in_rows_err_cols', corrected=False)"
   ]
  },
  {
   "cell_type": "markdown",
   "metadata": {},
   "source": [
    "The delimiter between the columns is any sequence of spaces or TAB, but it can be changed using the delimiter parameter. The line names are defined by a label starting with the name of the atom (‘O2’), followed by an underscore, followed by a wavelength and ending with a unit (‘A’ or ‘m’). The list of all the lines managed by PyNeb, ordered by atoms, is obtained by entering:"
   ]
  },
  {
   "cell_type": "code",
   "execution_count": 23,
   "metadata": {
    "collapsed": false,
    "jupyter": {
     "outputs_hidden": false
    }
   },
   "outputs": [
    {
     "name": "stdout",
     "output_type": "stream",
     "text": [
      "H1r ['1216A', '1026A', '973A', '6563A', '4861A', '4341A', '4102A', '3970A', '3889A', '3835A', '3798A', '1.87m', '1.28m', '1.09m', '9546A', '9229A']\n",
      "He1r ['5876A', '2945A', '3188A', '3614A', '3889A', '3965A', '4026A', '4121A', '4388A', '4438A', '4471A', '4713A', '4922A', '5016A', '5048A', '5876A', '6678A', '7065A', '7281A', '9464A', '10830A', '11013A', '11969A', '12527A', '12756A', '12785A', '12790A', '12846A', '12968A', '12985A', '13412A', '15084A', '17003A', '18556A', '18685A', '18697A', '19089A', '19543A', '20425A', '20581A', '20602A', '21120A', '21132A', '21608A', '21617A']\n",
      "He2r ['1640A', '1215A', '1084A', '4686A', '3203A', '6560A', '5411A', '4859A', '4541A', '6407A', '4198A']\n",
      "3He2 ['3.50c']\n",
      "Al2 ['2674A', '2670A', '2661A', '1671A', '4451A', '4463A', '4488A', '164.2m', '54.1m', '80.7m']\n",
      "Ar2 ['7.0m']\n",
      "Ar3 ['7136A', '7751A', '8036A', '3005A', '3109A', '3154A', '5192A', '9.0m', '6.37m', '21.8m']\n",
      "Ar4 ['4740A', '4711A', '2868A', '7263A', '7332A', '2854A', '7170A', '7237A', '77.4m', '56.2m']\n",
      "Ar5 ['6133A', '6435A', '7005A', '2637A', '2692A', '2786A', '4626A', '1218A', '1229A', '1249A', '1520A', '2262A', '13.1m', '4.93m', '7.9m']\n",
      "Ba2 ['4935A', '6497A', '6854A', '4555A', '5854A', '6142A', '2361A', '2668A', '2726A', '4524A', '4900A', '2.05m', '1.76m', '12.5m', '5.9m']\n",
      "Ba4 ['5697A']\n",
      "Br3 ['6646A', '6133A', '3714A', '8420A', '9419A', '3498A', '7385A', '8142A', '7.94m', '6.0m']\n",
      "C1 ['9808A', '9824A', '9850A', '4618A', '4621A', '4627A', '8728A', '2963A', '2965A', '2967A', '4246A', '8271A', '609.6m', '230.3m', '370.3m']\n",
      "C2 ['2325A', '2328A', '2323A', '2327A', '2322A', '2325A', '1335A', '1336A', '3131A', '3133A', '3136A', '1036A', '1037A', '1869A', '1870A', '1871A', '4636A', '4637A', '157.6m', '454.4m', '198.8m', '353.3m', '3967.2m']\n",
      "C3 ['1910A', '1909A', '1907A', '977A', '2000A', '2001A', '2003A', '422.0m', '124.9m', '177.4m']\n",
      "C4 ['1551A', '1548A', '92.8m']\n",
      "Ca2 ['7292A', '7324A']\n",
      "Ca5 ['5309A', '6087A', '6428A', '2280A', '2413A', '2464A', '3998A', '4.16m', '3.05m', '11.5m']\n",
      "Cl2 ['8579A', '9124A', '9381A', '3586A', '3678A', '3719A', '6162A', '14.4m', '10.0m', '33.3m']\n",
      "Cl3 ['5538A', '5518A', '3353A', '8500A', '8548A', '3343A', '8434A', '8481A', '151.5m', '108.0m']\n",
      "Cl4 ['7261A', '7531A', '8046A', '3071A', '3119A', '3204A', '5323A', '1463A', '1474A', '1493A', '1833A', '2793A', '20.3m', '7.45m', '11.8m']\n",
      "Fe3 ['4009A', '4659A', '4668A', '4701A', '4734A', '4755A', '5011A', '5085A', '5270A', '4881A', '4925A', '4931A', '5412A', '4987A', '8729A', '8838A', '3240A', '3286A', '3319A', '3323A', '3335A', '3355A', '3357A', '3366A', '3371A', '3406A', '4046A', '4080A', '4097A', '4607A', '4770A', '4778A', '9701A', '9960A', '5440A', '6096A']\n",
      "Fe4 ['4491A', '5685A', '5735A', '6740A']\n",
      "Fe5 ['3783A', '3795A', '3822A', '3891A', '3895A', '3911A', '4071A', '4181A', '4227A']\n",
      "Fe6 ['3556A', '3929A', '5146A', '5176A', '5278A', '5335A', '5370A', '5424A', '5427A', '5485A', '5631A', '5677A']\n",
      "Fe7 ['5159A', '5276A', '5721A', '6087A']\n",
      "K4 ['6102A', '6796A', '7109A', '2594A', '2711A', '2760A', '4511A', '6.0m', '4.3m', '15.4m']\n",
      "K5 ['4163A', '4123A', '2514A', '6349A', '6446A', '2495A', '6222A', '6316A', '42.2m', '31.0m']\n",
      "K6 ['5602A', '6229A']\n",
      "Kr3 ['6827A', '9902A', '3022A', '3504A', '3600A', '5423A', '2.2m', '1.88m', '13.1m', '1.07m']\n",
      "Kr4 ['5868A', '5346A', '3219A', '7131A', '8091A', '2993A', '6108A', '6798A', '6.0m', '4.26m']\n",
      "Kr5 ['5069A', '6256A', '8243A', '2550A', '2819A', '3163A', '5132A', '2.67m', '1.32m', '2.6m']\n",
      "Mg4 ['4.5m']\n",
      "Mg5 ['2783A', '2929A', '2992A', '1294A', '1325A', '1338A', '2418A', '5.6m', '3.96m', '13.5m']\n",
      "Mg7 ['2441A', '2509A', '2629A', '1174A', '1190A', '1216A', '2261A', '943A', '953A', '970A', '1537A', '4790A', '9.0m', '3.42m', '5.5m']\n",
      "N1 ['5200A', '5198A', '3467A', '3466A']\n",
      "N2 ['6527A', '6548A', '6584A', '3058A', '3063A', '3071A', '5755A', '2137A', '2139A', '2143A', '3177A', '7092A', '205.3m', '76.4m', '121.8m']\n",
      "N3 ['1749A', '1754A', '1747A', '1752A', '1744A', '1750A', '990A', '992A', '2280A', '2284A', '2288A', '2280A', '2283A', '2287A', '763A', '764A', '1356A', '1357A', '3334A', '3335A', '57.4m', '167.5m', '71.0m', '123.3m', '1492.1m']\n",
      "N4 ['1488A', '1487A', '1483A', '765A', '1575A', '1576A', '1580A', '158.4m', '48.3m', '69.4m']\n",
      "N5 ['1239A', '1243A']\n",
      "Na3 ['7.3m']\n",
      "Na4 ['3242A', '3362A', '3416A', '1504A', '1529A', '1540A', '2804A', '9.0m', '6.34m', '21.3m']\n",
      "Na6 ['2816A', '2872A', '2972A', '1343A', '1356A', '1378A', '2569A', '14.39m', '5.4m', '8.6m']\n",
      "Ne2 ['12.8m']\n",
      "Ne3 ['3869A', '3968A', '4012A', '1794A', '1815A', '1824A', '3343A', '15.6m', '10.9m', '36.0m']\n",
      "Ne4 ['2425A', '2422A', '1602A', '4716A', '4726A', '1601A', '4714A', '4724A', '224.9m', '1579.3m']\n",
      "Ne5 ['3300A', '3346A', '3426A', '1565A', '1575A', '1592A', '2973A', '1132A', '1137A', '1146A', '1721A', '4083A', '24.3m', '9.0m', '14.3m']\n",
      "Ne6 ['997A', '1010A', '993A', '1006A', '986A', '999A', '559A', '563A', '1271A', '1278A', '1289A', '559A', '563A', '1270A', '1277A', '1288A', '433A', '436A', '766A', '769A', '772A', '1928A', '1929A', '7.65m', '22.7m', '9.2m', '15.5m', '334.4m']\n",
      "Ni3 ['7890A', '8500A', '6000A', '6401A', '6534A', '6682A', '6797A', '7125A', '6946A']\n",
      "O1 ['6300A', '6364A', '6392A', '2959A', '2973A', '2979A', '5577A', '63.2m', '44.1m', '145.5m']\n",
      "O2 ['3729A', '3726A', '2470A', '7319A', '7320A', '7330A', '7331A', '2470A', '834A', '1075A', '1260A', '833A', '1073A', '1258A', '833A', '1072A', '1256A', '499.3m', '5023.7m', '61.3m', '40.7m', '121.3m']\n",
      "O2r ['4638.86A', '4641.81A', '4649.13A', '4650.84A', '4661.63A', '4673.73A', '4676.23A', '4696.35A', '4317.14A', '4336.86A', '4345.56A', '4349.43A', '4366.89A', '4414.90A', '4416.97A', '4069.62A', '4069.88A', '4072.15A', '4075.86A', '4078.84A', '4085.11A', '4092.93A', '4590.97A', '4596.18A', '4121.46A', '4132.80A', '4153.30A', '4104.99A', '4110.79A', '4119.22A', '4120.28A', '4185.44A', '4189.79A', '4087.15A', '4089.29A', '4095.64A', '4097.26A', '4275.55A', '4282.96A']\n",
      "O3 ['4931A', '4959A', '5007A', '2315A', '2321A', '2331A', '4363A', '1658A', '1661A', '1666A', '2497A', '5833A', '88.3m', '32.6m', '51.8m']\n",
      "O4 ['1400A', '1407A', '1397A', '1405A', '1394A', '1401A', '788A', '1801A', '1806A', '1812A', '608A', '610A', '1076A', '1078A', '1080A', '2671A', '2672A', '25.9m', '76.7m', '31.7m', '53.9m', '719.2m']\n",
      "O5 ['1220A', '1218A', '1214A', '630A', '1301A', '1303A', '1309A', '73.5m', '22.6m', '32.6m']\n",
      "Rb4 ['5760A', '9009A', '9604A', '2603A', '3110A', '3178A', '4750A', '1.6m', '1.44m', '14.5m']\n",
      "Rb5 ['5364A', '4742A', '2873A', '6188A', '7290A', '2609A', '5080A', '5800A', '4.1m', '2.84m']\n",
      "Rb6 ['4210A', '5373A', '7220A', '2212A', '2495A', '2832A', '4660A', '1.95m', '1.01m', '2.1m']\n",
      "S2 ['6731A', '6716A', '4076A', '4069A', '1260A', '1549A', '1550A', '1823A', '1824A', '1254A', '1541A', '1542A', '1811A', '1812A', '1251A', '1536A', '1537A', '1804A', '1806A', '314.5m', '1.03m', '214.0m', '27.7m', '17.6m', '48.6m']\n",
      "S3 ['8829A', '9069A', '9531A', '3681A', '3722A', '3798A', '6312A', '33.5m', '12.0m', '18.7m']\n",
      "S4 ['1405A', '1424A', '1398A', '1417A', '1387A', '1406A', '10.5m', '29.0m', '11.2m', '18.3m']\n",
      "Se3 ['7671A', '8854A', '3516A', '3746A', '4082A', '6493A', '5.74m', '2.54m', '4.55m', '1.1m']\n",
      "Se4 ['2.28m']\n",
      "Si2 ['2335A', '2351A', '2329A', '2345A', '2320A', '1808A', '1817A', '8007A', '8077A', '8193A', '7997A', '8067A', '8183A', '34.8m', '92.3m', '35.2m', '57.1m', '631.5m']\n",
      "Si3 ['1897A', '1892A', '1883A', '1206A', '3315A', '3329A', '3359A', '77.7m', '25.7m', '38.2m']\n",
      "Si4 ['1394A', '1403A']\n",
      "Xe3 ['5847A', '2769A', '3574A', '3800A', '5261A', '1.23m', '1.02m', '6.0m', '1.11m', '1.37m']\n",
      "Xe4 ['7535A', '5709A', '3566A', '6769A', '9498A', '2804A', '4467A', '5511A', '2.36m', '1.31m']\n",
      "Xe6 ['6409A']\n"
     ]
    }
   ],
   "source": [
    "for atom in pn.LINE_LABEL_LIST:\n",
    "    print(atom, pn.LINE_LABEL_LIST[atom])"
   ]
  },
  {
   "cell_type": "markdown",
   "metadata": {},
   "source": [
    "The presence of a trailing “e” at the end of the label points to the error associated to the line. The error is considered to be relative to the intensity (i.e., 0.05 means 5% of the intensity), unless the parameter errIsRelative is set to False. A common value for all the errors can be defined by the parameter __err_default__ (0.10 is the default value)."
   ]
  },
  {
   "cell_type": "markdown",
   "metadata": {},
   "source": [
    "### Extinction correction in Observation class"
   ]
  },
  {
   "cell_type": "markdown",
   "metadata": {},
   "source": [
    "Once the data have been read, they have to be corrected from extinction. An instantiation of __RedCorr()__ is available inside the __Observation__ object as __obs.extinction__.\n",
    "\n",
    "If the data file contains __cHbeta__ or __E(B-V)__ alongside of line labels, the corresponding information on extinction is transmitted to the extinction correction object. Otherwise, the extinction parameters must be set manually; for example:"
   ]
  },
  {
   "cell_type": "code",
   "execution_count": 24,
   "metadata": {},
   "outputs": [],
   "source": [
    "obs = pn.Observation('observations1.dat', fileFormat='lines_in_rows', corrected=True)\n",
    "obs.extinction.cHbeta = 1.2\n",
    "obs.extinction.E_BV = 0.34"
   ]
  },
  {
   "cell_type": "markdown",
   "metadata": {},
   "source": [
    "An extinction law has to be specified in either case:"
   ]
  },
  {
   "cell_type": "code",
   "execution_count": 25,
   "metadata": {},
   "outputs": [],
   "source": [
    "obs.extinction.law = 'F99'"
   ]
  },
  {
   "cell_type": "markdown",
   "metadata": {},
   "source": [
    "To correct all the lines at once:"
   ]
  },
  {
   "cell_type": "code",
   "execution_count": 26,
   "metadata": {},
   "outputs": [],
   "source": [
    "obs.correctData()"
   ]
  },
  {
   "cell_type": "code",
   "execution_count": 27,
   "metadata": {
    "collapsed": false,
    "jupyter": {
     "outputs_hidden": false
    }
   },
   "outputs": [
    {
     "name": "stdout",
     "output_type": "stream",
     "text": [
      "S4_10.5m      7.000\n",
      "Ne2_12.8m     8.300\n",
      "Ne3_15.6m    34.100\n",
      "S3_18.7m     10.000\n",
      "O2_3726A     39.700\n",
      "O2_3729A     18.600\n",
      "Ne3_3869A    18.900\n",
      "Ne3_3968A     6.400\n",
      "S2_4069A      0.850\n",
      "S2_4076A      0.450\n",
      "O3_4363A      4.360\n",
      "H1r_4861A   100.000\n",
      "O3_5007A    435.090\n",
      "N2_5755A      0.510\n",
      "S3_6312A      0.760\n",
      "O1_6300A      1.690\n",
      "O1_6364A      0.540\n",
      "N2_6548A      6.840\n",
      "H1r_6563A   345.000\n",
      "N2_6584A     19.000\n",
      "S2_6716A      1.220\n",
      "S2_6731A      2.180\n",
      "Ar3_7136A     4.910\n",
      "O2_7319A+     6.540\n",
      "O2_7330A+     5.170\n"
     ]
    }
   ],
   "source": [
    "obs.printIntens(returnObs=True)"
   ]
  },
  {
   "cell_type": "code",
   "execution_count": 28,
   "metadata": {
    "collapsed": false,
    "jupyter": {
     "outputs_hidden": false
    }
   },
   "outputs": [
    {
     "name": "stdout",
     "output_type": "stream",
     "text": [
      "S4_10.5m      7.120\n",
      "Ne2_12.8m     8.415\n",
      "Ne3_15.6m    34.483\n",
      "S3_18.7m     10.093\n",
      "O2_3726A    171.242\n",
      "O2_3729A     80.156\n",
      "Ne3_3869A    78.134\n",
      "Ne3_3968A    25.717\n",
      "S2_4069A      3.320\n",
      "S2_4076A      1.754\n",
      "O3_4363A     15.704\n",
      "H1r_4861A   310.254\n",
      "O3_5007A   1289.851\n",
      "N2_5755A      1.244\n",
      "S3_6312A      1.662\n",
      "O1_6300A      3.704\n",
      "O1_6364A      1.170\n",
      "N2_6548A     14.346\n",
      "H1r_6563A   721.747\n",
      "N2_6584A     39.607\n",
      "S2_6716A      2.488\n",
      "S2_6731A      4.435\n",
      "Ar3_7136A     9.384\n",
      "O2_7319A+    12.180\n",
      "O2_7330A+     9.614\n"
     ]
    }
   ],
   "source": [
    "obs.printIntens()"
   ]
  },
  {
   "cell_type": "markdown",
   "metadata": {},
   "source": [
    "If you want the corrected line intensities to be normalized to a given wavelength, use the following:"
   ]
  },
  {
   "cell_type": "code",
   "execution_count": 29,
   "metadata": {},
   "outputs": [],
   "source": [
    "obs.correctData(normWave=4861.)"
   ]
  },
  {
   "cell_type": "markdown",
   "metadata": {},
   "source": [
    "The extinction correction can be determined by comparing the observed values to a theoretical ratio, as in the following:"
   ]
  },
  {
   "cell_type": "code",
   "execution_count": 30,
   "metadata": {
    "collapsed": false,
    "jupyter": {
     "outputs_hidden": false
    }
   },
   "outputs": [
    {
     "name": "stdout",
     "output_type": "stream",
     "text": [
      "S4_10.5m      2.295\n",
      "Ne2_12.8m     2.712\n",
      "Ne3_15.6m    11.115\n",
      "S3_18.7m      3.253\n",
      "O2_3726A     55.194\n",
      "O2_3729A     25.836\n",
      "Ne3_3869A    25.184\n",
      "Ne3_3968A     8.289\n",
      "S2_4069A      1.070\n",
      "S2_4076A      0.565\n",
      "O3_4363A      5.062\n",
      "H1r_4861A   100.000\n",
      "O3_5007A    415.740\n",
      "N2_5755A      0.401\n",
      "S3_6312A      0.536\n",
      "O1_6300A      1.194\n",
      "O1_6364A      0.377\n",
      "N2_6548A      4.624\n",
      "H1r_6563A   232.631\n",
      "N2_6584A     12.766\n",
      "S2_6716A      0.802\n",
      "S2_6731A      1.429\n",
      "Ar3_7136A     3.025\n",
      "O2_7319A+     3.926\n",
      "O2_7330A+     3.099\n"
     ]
    }
   ],
   "source": [
    "obs.printIntens()"
   ]
  },
  {
   "cell_type": "code",
   "execution_count": 31,
   "metadata": {
    "collapsed": false,
    "jupyter": {
     "outputs_hidden": false
    }
   },
   "outputs": [
    {
     "name": "stdout",
     "output_type": "stream",
     "text": [
      "[0.16483175]\n"
     ]
    }
   ],
   "source": [
    "obs.def_EBV(label1=\"H1r_6563A\", label2=\"H1r_4861A\", r_theo=2.85)\n",
    "print(obs.extinction.E_BV)\n",
    "obs.correctData(normWave=4861.)"
   ]
  },
  {
   "cell_type": "code",
   "execution_count": 32,
   "metadata": {
    "collapsed": false,
    "jupyter": {
     "outputs_hidden": false
    }
   },
   "outputs": [
    {
     "name": "stdout",
     "output_type": "stream",
     "text": [
      "S4_10.5m      4.076\n",
      "Ne2_12.8m     4.826\n",
      "Ne3_15.6m    19.803\n",
      "S3_18.7m      5.802\n",
      "O2_3726A     46.576\n",
      "O2_3729A     21.812\n",
      "Ne3_3869A    21.722\n",
      "Ne3_3968A     7.255\n",
      "S2_4069A      0.950\n",
      "S2_4076A      0.503\n",
      "O3_4363A      4.687\n",
      "H1r_4861A   100.000\n",
      "O3_5007A    425.599\n",
      "N2_5755A      0.454\n",
      "S3_6312A      0.641\n",
      "O1_6300A      1.428\n",
      "O1_6364A      0.454\n",
      "N2_6548A      5.657\n",
      "H1r_6563A   285.000\n",
      "N2_6584A     15.668\n",
      "S2_6716A      0.995\n",
      "S2_6731A      1.777\n",
      "Ar3_7136A     3.882\n",
      "O2_7319A+     5.106\n",
      "O2_7330A+     4.034\n"
     ]
    }
   ],
   "source": [
    "obs.printIntens()"
   ]
  },
  {
   "cell_type": "markdown",
   "metadata": {},
   "source": [
    "By default, this method prints out the corrected intensities. To print the observed intensities, use the __returnObs=True__ parameter."
   ]
  },
  {
   "cell_type": "markdown",
   "metadata": {},
   "source": [
    "The method __getSortedLines__ returns the lines sorted in alphabetical order according to either the emitting atoms (default) or the wavelength (using the __crit='wave'__ parameter):"
   ]
  },
  {
   "cell_type": "code",
   "execution_count": 33,
   "metadata": {
    "collapsed": false,
    "jupyter": {
     "outputs_hidden": false
    }
   },
   "outputs": [
    {
     "name": "stdout",
     "output_type": "stream",
     "text": [
      "Ar3_7136A 3.8821497892916716\n",
      "H1r_4861A 100.0\n",
      "H1r_6563A 284.99999999999994\n",
      "N2_5755A 0.4538465502784229\n",
      "N2_6548A 5.6574680712548835\n",
      "N2_6584A 15.668474852815743\n",
      "Ne2_12.8m 4.826029712555136\n",
      "Ne3_15.6m 19.8027022261585\n",
      "Ne3_3869A 21.721862162658756\n",
      "Ne3_3968A 7.2549847099308185\n",
      "O1_6300A 1.4279238824617235\n",
      "O1_6364A 0.4536974769399841\n",
      "O2_3726A 46.57643988525366\n",
      "O2_3729A 21.812058000703153\n",
      "O2_7319A+ 5.106424464804535\n",
      "O2_7330A+ 4.033770322547239\n",
      "O3_4363A 4.687051074032947\n",
      "O3_5007A 425.5991545953096\n",
      "S2_4069A 0.95040451703046\n",
      "S2_4076A 0.5026812314820526\n",
      "S2_6716A 0.9954054122181787\n",
      "S2_6731A 1.7765637886180774\n",
      "S3_18.7m 5.801845911170803\n",
      "S3_6312A 0.6414610121168983\n",
      "S4_10.5m 4.076478721339332\n"
     ]
    }
   ],
   "source": [
    "for line in obs.getSortedLines(): \n",
    "    print(line.label, line.corrIntens[0])"
   ]
  },
  {
   "cell_type": "markdown",
   "metadata": {},
   "source": [
    "The following method, which gives the list of all the atoms implied in the observed emission lines, will be useful later:"
   ]
  },
  {
   "cell_type": "code",
   "execution_count": 34,
   "metadata": {},
   "outputs": [],
   "source": [
    "atomList = obs.getUniqueAtoms()"
   ]
  },
  {
   "cell_type": "code",
   "execution_count": 35,
   "metadata": {
    "collapsed": false,
    "jupyter": {
     "outputs_hidden": false
    }
   },
   "outputs": [
    {
     "data": {
      "text/plain": [
       "array(['Ar3', 'H1r', 'N2', 'Ne2', 'Ne3', 'O1', 'O2', 'O3', 'S2', 'S3',\n",
       "       'S4'], dtype='<U3')"
      ]
     },
     "execution_count": 35,
     "metadata": {},
     "output_type": "execute_result"
    }
   ],
   "source": [
    "atomList"
   ]
  },
  {
   "cell_type": "markdown",
   "metadata": {},
   "source": [
    "### Adding observations and lines"
   ]
  },
  {
   "cell_type": "markdown",
   "metadata": {},
   "source": [
    "Once an __Observation__ object is instantiated, you can add a new observation (corresponding, e.g., to a new object or a new fiber) by using:"
   ]
  },
  {
   "cell_type": "code",
   "execution_count": 36,
   "metadata": {},
   "outputs": [],
   "source": [
    "obs.addObs('test', np.random.rand(25))"
   ]
  },
  {
   "cell_type": "markdown",
   "metadata": {},
   "source": [
    "where ‘test’ is the name of the new observation. The new observation must have the same size of __obs__, that is, it must contain __obs.n_lines__ lines."
   ]
  },
  {
   "cell_type": "code",
   "execution_count": 37,
   "metadata": {
    "collapsed": false,
    "jupyter": {
     "outputs_hidden": false
    }
   },
   "outputs": [
    {
     "name": "stdout",
     "output_type": "stream",
     "text": [
      "S4_10.5m      4.076    0.933\n",
      "Ne2_12.8m     4.826    0.596\n",
      "Ne3_15.6m    19.803    0.664\n",
      "S3_18.7m      5.802    0.457\n",
      "O2_3726A     46.576    0.339\n",
      "O2_3729A     21.812    0.890\n",
      "Ne3_3869A    21.722    0.600\n",
      "Ne3_3968A     7.255    0.833\n",
      "S2_4069A      0.950    0.878\n",
      "S2_4076A      0.503    0.338\n",
      "O3_4363A      4.687    0.433\n",
      "H1r_4861A   100.000    0.570\n",
      "O3_5007A    425.599    0.451\n",
      "N2_5755A      0.454    0.263\n",
      "S3_6312A      0.641    0.491\n",
      "O1_6300A      1.428    0.146\n",
      "O1_6364A      0.454    0.938\n",
      "N2_6548A      5.657    0.723\n",
      "H1r_6563A   285.000    0.700\n",
      "N2_6584A     15.668    0.010\n",
      "S2_6716A      0.995    0.302\n",
      "S2_6731A      1.777    0.848\n",
      "Ar3_7136A     3.882    0.179\n",
      "O2_7319A+     5.106    0.009\n",
      "O2_7330A+     4.034    0.032\n"
     ]
    }
   ],
   "source": [
    "obs.printIntens()"
   ]
  },
  {
   "cell_type": "code",
   "execution_count": 38,
   "metadata": {},
   "outputs": [],
   "source": [
    "line = pn.EmissionLine(label='Cl3_5518A', obsIntens=[3.5, 2.5])\n",
    "obs.addLine(line)"
   ]
  },
  {
   "cell_type": "code",
   "execution_count": 39,
   "metadata": {
    "collapsed": false,
    "jupyter": {
     "outputs_hidden": false
    }
   },
   "outputs": [
    {
     "name": "stdout",
     "output_type": "stream",
     "text": [
      "S4_10.5m      4.076    0.933\n",
      "Ne2_12.8m     4.826    0.596\n",
      "Ne3_15.6m    19.803    0.664\n",
      "S3_18.7m      5.802    0.457\n",
      "O2_3726A     46.576    0.339\n",
      "O2_3729A     21.812    0.890\n",
      "Ne3_3869A    21.722    0.600\n",
      "Ne3_3968A     7.255    0.833\n",
      "S2_4069A      0.950    0.878\n",
      "S2_4076A      0.503    0.338\n",
      "O3_4363A      4.687    0.433\n",
      "H1r_4861A   100.000    0.570\n",
      "O3_5007A    425.599    0.451\n",
      "N2_5755A      0.454    0.263\n",
      "S3_6312A      0.641    0.491\n",
      "O1_6300A      1.428    0.146\n",
      "O1_6364A      0.454    0.938\n",
      "N2_6548A      5.657    0.723\n",
      "H1r_6563A   285.000    0.700\n",
      "N2_6584A     15.668    0.010\n",
      "S2_6716A      0.995    0.302\n",
      "S2_6731A      1.777    0.848\n",
      "Ar3_7136A     3.882    0.179\n",
      "O2_7319A+     5.106    0.009\n",
      "O2_7330A+     4.034    0.032\n",
      "Cl3_5518A     5.534    3.953\n"
     ]
    }
   ],
   "source": [
    "obs.printIntens()"
   ]
  },
  {
   "cell_type": "markdown",
   "metadata": {},
   "source": [
    "### Getting line intensities"
   ]
  },
  {
   "cell_type": "markdown",
   "metadata": {},
   "source": [
    "You can extract the line intensities from an __Observation__ object by, for example:"
   ]
  },
  {
   "cell_type": "code",
   "execution_count": 40,
   "metadata": {
    "collapsed": false,
    "jupyter": {
     "outputs_hidden": false
    }
   },
   "outputs": [
    {
     "data": {
      "text/plain": [
       "['SMC_24', 'test']"
      ]
     },
     "execution_count": 40,
     "metadata": {},
     "output_type": "execute_result"
    }
   ],
   "source": [
    "obs.names"
   ]
  },
  {
   "cell_type": "code",
   "execution_count": 41,
   "metadata": {
    "collapsed": false,
    "jupyter": {
     "outputs_hidden": false
    }
   },
   "outputs": [
    {
     "data": {
      "text/plain": [
       "{'S4_10.5m': 4.076478721339332,\n",
       " 'Ne2_12.8m': 4.826029712555136,\n",
       " 'Ne3_15.6m': 19.8027022261585,\n",
       " 'S3_18.7m': 5.801845911170803,\n",
       " 'O2_3726A': 46.57643988525366,\n",
       " 'O2_3729A': 21.812058000703153,\n",
       " 'Ne3_3869A': 21.721862162658756,\n",
       " 'Ne3_3968A': 7.2549847099308185,\n",
       " 'S2_4069A': 0.95040451703046,\n",
       " 'S2_4076A': 0.5026812314820526,\n",
       " 'O3_4363A': 4.687051074032947,\n",
       " 'H1r_4861A': 100.0,\n",
       " 'O3_5007A': 425.5991545953096,\n",
       " 'N2_5755A': 0.4538465502784229,\n",
       " 'S3_6312A': 0.6414610121168983,\n",
       " 'O1_6300A': 1.4279238824617235,\n",
       " 'O1_6364A': 0.4536974769399841,\n",
       " 'N2_6548A': 5.6574680712548835,\n",
       " 'H1r_6563A': 284.99999999999994,\n",
       " 'N2_6584A': 15.668474852815743,\n",
       " 'S2_6716A': 0.9954054122181787,\n",
       " 'S2_6731A': 1.7765637886180774,\n",
       " 'Ar3_7136A': 3.8821497892916716,\n",
       " 'O2_7319A+': 5.106424464804535,\n",
       " 'O2_7330A+': 4.033770322547239,\n",
       " 'Cl3_5518A': 5.533838898173915}"
      ]
     },
     "execution_count": 41,
     "metadata": {},
     "output_type": "execute_result"
    }
   ],
   "source": [
    "obs.getIntens(obsName='SMC_24')"
   ]
  },
  {
   "cell_type": "code",
   "execution_count": 42,
   "metadata": {
    "collapsed": false,
    "jupyter": {
     "outputs_hidden": false
    }
   },
   "outputs": [
    {
     "data": {
      "text/plain": [
       "array([4.03377032, 0.03166219])"
      ]
     },
     "execution_count": 42,
     "metadata": {},
     "output_type": "execute_result"
    }
   ],
   "source": [
    "obs.getIntens()['O2_7330A+']"
   ]
  },
  {
   "cell_type": "markdown",
   "metadata": {},
   "source": [
    "## Using Observation to determine ionic abundances"
   ]
  },
  {
   "cell_type": "markdown",
   "metadata": {},
   "source": [
    "Once the electron temperature and density are determined, it is easy to obtain the ionic abundances from a set of emission lines included in an __Observation__ object:"
   ]
  },
  {
   "cell_type": "code",
   "execution_count": 43,
   "metadata": {
    "collapsed": false,
    "jupyter": {
     "outputs_hidden": false
    }
   },
   "outputs": [
    {
     "name": "stdout",
     "output_type": "stream",
     "text": [
      "warng _ManageAtomicData: rec data not available for Ar3\n",
      "warng _ManageAtomicData: atom data not available for H1\n",
      "warng _ManageAtomicData: coll data not available for H1\n",
      "warng _ManageAtomicData: rec data not available for Ne3\n",
      "warng _ManageAtomicData: rec data not available for S2\n",
      "warng _ManageAtomicData: rec data not available for S3\n",
      "warng _ManageAtomicData: rec data not available for S4\n"
     ]
    }
   ],
   "source": [
    "obs = pn.Observation()\n",
    "obs.readData('observations1.dat', fileFormat='lines_in_rows', err_default=0.05) # fill obs with data read from observations1.dat\n",
    "obs.def_EBV(label1=\"H1r_6563A\", label2=\"H1r_4861A\", r_theo=2.85)\n",
    "obs.correctData(normWave=4861.)\n",
    "Te = [10000.]\n",
    "Ne = [1e3]\n",
    "# Define a dictionary to hold all the Atom objects needed\n",
    "all_atoms = pn.getAtomDict(atom_list=obs.getUniqueAtoms())\n",
    "# define a dictionary to store the abundances\n",
    "ab_dict = {}\n",
    "# we  use the following lines to determine the ionic abundances\n",
    "ab_labels = ['N2_6584A', 'O2_3726A', 'O3_5007A', 'S2_6716A', \n",
    "             'S3_6312A', 'Ar3_7136A', 'Ne3_3869A']\n",
    "for line in obs.getSortedLines():\n",
    "    if line.label in ab_labels:\n",
    "        ab = all_atoms[line.atom].getIonAbundance(line.corrIntens, Te, Ne, \n",
    "                                                  to_eval=line.to_eval, Hbeta=100)\n",
    "        ab_dict[line.atom] = ab"
   ]
  },
  {
   "cell_type": "code",
   "execution_count": 44,
   "metadata": {
    "collapsed": false,
    "jupyter": {
     "outputs_hidden": false
    }
   },
   "outputs": [
    {
     "data": {
      "text/plain": [
       "{'Ar3': array([3.21287725e-07]),\n",
       " 'N2': array([3.22649264e-06]),\n",
       " 'Ne3': array([2.36596811e-05]),\n",
       " 'O2': array([3.64228102e-05]),\n",
       " 'O3': array([0.00014833]),\n",
       " 'S2': array([6.71633117e-08]),\n",
       " 'S3': array([1.42901804e-06])}"
      ]
     },
     "execution_count": 44,
     "metadata": {},
     "output_type": "execute_result"
    }
   ],
   "source": [
    "ab_dict"
   ]
  }
 ],
 "metadata": {
  "kernelspec": {
   "display_name": "Python 3",
   "language": "python",
   "name": "python3"
  },
  "language_info": {
   "codemirror_mode": {
    "name": "ipython",
    "version": 3
   },
   "file_extension": ".py",
   "mimetype": "text/x-python",
   "name": "python",
   "nbconvert_exporter": "python",
   "pygments_lexer": "ipython3",
   "version": "3.7.6"
  }
 },
 "nbformat": 4,
 "nbformat_minor": 4
}
